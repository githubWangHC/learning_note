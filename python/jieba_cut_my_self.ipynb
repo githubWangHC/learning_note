{
 "cells": [
  {
   "cell_type": "code",
   "execution_count": 2,
   "metadata": {},
   "outputs": [],
   "source": [
    "import pandas as pd\n",
    "import numpy as np"
   ]
  },
  {
   "cell_type": "code",
   "execution_count": 3,
   "metadata": {
    "scrolled": true
   },
   "outputs": [
    {
     "data": {
      "text/html": [
       "<div>\n",
       "<style scoped>\n",
       "    .dataframe tbody tr th:only-of-type {\n",
       "        vertical-align: middle;\n",
       "    }\n",
       "\n",
       "    .dataframe tbody tr th {\n",
       "        vertical-align: top;\n",
       "    }\n",
       "\n",
       "    .dataframe thead th {\n",
       "        text-align: right;\n",
       "    }\n",
       "</style>\n",
       "<table border=\"1\" class=\"dataframe\">\n",
       "  <thead>\n",
       "    <tr style=\"text-align: right;\">\n",
       "      <th></th>\n",
       "      <th>label</th>\n",
       "      <th>title</th>\n",
       "      <th>url</th>\n",
       "      <th>contents</th>\n",
       "    </tr>\n",
       "  </thead>\n",
       "  <tbody>\n",
       "    <tr>\n",
       "      <th>0</th>\n",
       "      <td>汽车</td>\n",
       "      <td>新辉腾　４．２　Ｖ８　４座加长Ｉｎｄｉｖｉｄｕａｌ版２０１１款　最新报价</td>\n",
       "      <td>http://auto.data.people.com.cn/model_15782/</td>\n",
       "      <td>经销商　电话　试驾／订车Ｕ憬杭州滨江区江陵路１７８０号４００８－１１２２３３转５８６４＃保常...</td>\n",
       "    </tr>\n",
       "    <tr>\n",
       "      <th>1</th>\n",
       "      <td>汽车</td>\n",
       "      <td>９１８　Ｓｐｙｄｅｒ概念车</td>\n",
       "      <td>http://auto.data.people.com.cn/prdview_165423....</td>\n",
       "      <td>呼叫热线　４００８－１００－３００　服务邮箱　ｋｆ＠ｐｅｏｐｌｅｄａｉｌｙ．ｃｏｍ．ｃｎ</td>\n",
       "    </tr>\n",
       "    <tr>\n",
       "      <th>2</th>\n",
       "      <td>汽车</td>\n",
       "      <td>日内瓦亮相　ＭＩＮＩ性能版／概念车－１．６Ｔ引擎</td>\n",
       "      <td>http://auto.data.people.com.cn/news/story_5249...</td>\n",
       "      <td>ＭＩＮＩ品牌在二月曾经公布了最新的ＭＩＮＩ新概念车Ｃｌｕｂｖａｎ效果图，不过现在在日内瓦车展...</td>\n",
       "    </tr>\n",
       "  </tbody>\n",
       "</table>\n",
       "</div>"
      ],
      "text/plain": [
       "  label                                 title  \\\n",
       "0    汽车  新辉腾　４．２　Ｖ８　４座加长Ｉｎｄｉｖｉｄｕａｌ版２０１１款　最新报价   \n",
       "1    汽车                         ９１８　Ｓｐｙｄｅｒ概念车   \n",
       "2    汽车              日内瓦亮相　ＭＩＮＩ性能版／概念车－１．６Ｔ引擎   \n",
       "\n",
       "                                                 url  \\\n",
       "0        http://auto.data.people.com.cn/model_15782/   \n",
       "1  http://auto.data.people.com.cn/prdview_165423....   \n",
       "2  http://auto.data.people.com.cn/news/story_5249...   \n",
       "\n",
       "                                            contents  \n",
       "0  经销商　电话　试驾／订车Ｕ憬杭州滨江区江陵路１７８０号４００８－１１２２３３转５８６４＃保常...  \n",
       "1       呼叫热线　４００８－１００－３００　服务邮箱　ｋｆ＠ｐｅｏｐｌｅｄａｉｌｙ．ｃｏｍ．ｃｎ  \n",
       "2  ＭＩＮＩ品牌在二月曾经公布了最新的ＭＩＮＩ新概念车Ｃｌｕｂｖａｎ效果图，不过现在在日内瓦车展...  "
      ]
     },
     "metadata": {},
     "output_type": "display_data"
    }
   ],
   "source": [
    "df = pd.read_table(\"./data/val.txt\", names = [\"label\", \"title\", \"url\", \"contents\"], encoding = \"utf-8\")\n",
    "display(df.head(3))"
   ]
  },
  {
   "cell_type": "code",
   "execution_count": 4,
   "metadata": {},
   "outputs": [
    {
     "data": {
      "text/html": [
       "<div>\n",
       "<style scoped>\n",
       "    .dataframe tbody tr th:only-of-type {\n",
       "        vertical-align: middle;\n",
       "    }\n",
       "\n",
       "    .dataframe tbody tr th {\n",
       "        vertical-align: top;\n",
       "    }\n",
       "\n",
       "    .dataframe thead th {\n",
       "        text-align: right;\n",
       "    }\n",
       "</style>\n",
       "<table border=\"1\" class=\"dataframe\">\n",
       "  <thead>\n",
       "    <tr style=\"text-align: right;\">\n",
       "      <th></th>\n",
       "      <th>label</th>\n",
       "      <th>contents</th>\n",
       "    </tr>\n",
       "  </thead>\n",
       "  <tbody>\n",
       "    <tr>\n",
       "      <th>0</th>\n",
       "      <td>汽车</td>\n",
       "      <td>经销商　电话　试驾／订车Ｕ憬杭州滨江区江陵路１７８０号４００８－１１２２３３转５８６４＃保常...</td>\n",
       "    </tr>\n",
       "    <tr>\n",
       "      <th>1</th>\n",
       "      <td>汽车</td>\n",
       "      <td>呼叫热线　４００８－１００－３００　服务邮箱　ｋｆ＠ｐｅｏｐｌｅｄａｉｌｙ．ｃｏｍ．ｃｎ</td>\n",
       "    </tr>\n",
       "    <tr>\n",
       "      <th>2</th>\n",
       "      <td>汽车</td>\n",
       "      <td>ＭＩＮＩ品牌在二月曾经公布了最新的ＭＩＮＩ新概念车Ｃｌｕｂｖａｎ效果图，不过现在在日内瓦车展...</td>\n",
       "    </tr>\n",
       "  </tbody>\n",
       "</table>\n",
       "</div>"
      ],
      "text/plain": [
       "  label                                           contents\n",
       "0    汽车  经销商　电话　试驾／订车Ｕ憬杭州滨江区江陵路１７８０号４００８－１１２２３３转５８６４＃保常...\n",
       "1    汽车       呼叫热线　４００８－１００－３００　服务邮箱　ｋｆ＠ｐｅｏｐｌｅｄａｉｌｙ．ｃｏｍ．ｃｎ\n",
       "2    汽车  ＭＩＮＩ品牌在二月曾经公布了最新的ＭＩＮＩ新概念车Ｃｌｕｂｖａｎ效果图，不过现在在日内瓦车展..."
      ]
     },
     "metadata": {},
     "output_type": "display_data"
    }
   ],
   "source": [
    "df_droped = df.drop([\"title\", \"url\"], axis = 1)\n",
    "df_droped = df_droped.loc[:500, :]\n",
    "display(df_droped.head(3))"
   ]
  },
  {
   "cell_type": "markdown",
   "metadata": {},
   "source": [
    "### CSV to TEXT "
   ]
  },
  {
   "cell_type": "code",
   "execution_count": 5,
   "metadata": {},
   "outputs": [],
   "source": [
    "def csv2text():\n",
    "    csv_file = input('Enter the name of your input file: ')\n",
    "    txt_file = input('Enter the name of your output file: ')\n",
    "    \n",
    "    text_list = []\n",
    "    \n",
    "    with open(csv_file, \"r\") as my_input_file:\n",
    "        for line in my_input_file:\n",
    "            line = line.split(\",\", 2)\n",
    "            text_list.append(\" \".join(line))\n",
    "    \n",
    "    with open(txt_file, \"w\") as my_output_file:\n",
    "        my_output_file.write(\"#1\\n\")\n",
    "        my_output_file.write(\"double({},{})\\n\".format(len(text_list), 2))\n",
    "        for line in text_list:\n",
    "            my_output_file.write(\"  \" + line)\n",
    "        print('File Successfully written.')"
   ]
  },
  {
   "cell_type": "markdown",
   "metadata": {},
   "source": [
    "#### 分词需要用list作为输入 "
   ]
  },
  {
   "cell_type": "code",
   "execution_count": 6,
   "metadata": {
    "scrolled": true
   },
   "outputs": [
    {
     "data": {
      "text/plain": [
       "501"
      ]
     },
     "metadata": {},
     "output_type": "display_data"
    },
    {
     "data": {
      "text/plain": [
       "list"
      ]
     },
     "metadata": {},
     "output_type": "display_data"
    },
    {
     "data": {
      "text/plain": [
       "'经销商\\u3000电话\\u3000试驾／订车３鄙锹罚叮购沤鹌焦ひ登对面＃矗埃埃福１１２２３３转９４２６＃矗３９万Ｎ浜菏形洳区友谊大道特一号（武昌交警大队旁）＃矗埃埃福１１２２３３转７５１２＃矗４９万：？谑心虾４蟮溃保矗焙牛积＃矗埃埃福１１２２３３转９１１９＃矗５９万Ｉ蕉省临沂市沂河路与罗七路交汇处向西路南１００米远通汽车广场院内＃矗５９万Ｌ原市小店区太榆路３号４．１９万Ｌ旖蚴泻游髑解放南路６１３号三期五号＃矗３９万Ｆ蕉仁形魍饣烦ぐ蚕售基地＃矗３９万'"
      ]
     },
     "metadata": {},
     "output_type": "display_data"
    }
   ],
   "source": [
    "contents_list = df_droped.contents.values.tolist()\n",
    "display(len(contents_list), type(contents_list), contents_list[100])"
   ]
  },
  {
   "cell_type": "markdown",
   "metadata": {},
   "source": [
    "# 分词"
   ]
  },
  {
   "cell_type": "markdown",
   "metadata": {},
   "source": [
    "### 中文分词"
   ]
  },
  {
   "cell_type": "markdown",
   "metadata": {},
   "source": [
    "#### 1 jieba分词"
   ]
  },
  {
   "cell_type": "raw",
   "metadata": {},
   "source": [
    "1 jieba 主要分词处理思路\n",
    "（1.1） 加载模块自带 dict.txt 词典, 从自带的词典中构建待分词的语句的有向无环图（DAG） ；\n",
    "（1.2） 对于词典中未收录的词，使用 HMM 模型的 Viterbi 算法尝试分词处理；\n",
    "（1.2） 已收录词和未收录词全部分词完毕后，根据有向无环图的最大概率路径使用 Python 的 yield 语法生成一个词语生成器, 逐词语返回。\n",
    "\n",
    "2 词性标注的基本原理可以概括为：\n",
    "对于需要标注的词，如果词典中包括该词，就从词典中读取该词的词性；如果词典中没有该词，则用 Viterbi 算法来进行词性估计。"
   ]
  },
  {
   "cell_type": "code",
   "execution_count": 7,
   "metadata": {},
   "outputs": [
    {
     "name": "stderr",
     "output_type": "stream",
     "text": [
      "Building prefix dict from the default dictionary ...\n",
      "Loading model from cache C:\\Users\\w\\AppData\\Local\\Temp\\jieba.cache\n"
     ]
    },
    {
     "name": "stdout",
     "output_type": "stream",
     "text": [
      "bef cut sentence is:   南京市长江大桥 \n",
      "======jieba.cut:======\n",
      "jieba.cut 的结果是一个可迭代的generator:  <generator object Tokenizer.cut at 0x000000000F9644F8>  需要迭代读出\n",
      "\n"
     ]
    },
    {
     "name": "stderr",
     "output_type": "stream",
     "text": [
      "Loading model cost 1.696 seconds.\n",
      "Prefix dict has been built succesfully.\n"
     ]
    },
    {
     "name": "stdout",
     "output_type": "stream",
     "text": [
      "南京\n",
      "京市\n",
      "南京市\n",
      "长江\n",
      "大桥\n",
      "长江大桥\n",
      "======jieba.lcut======\n",
      "jieba.lcut的返回结果是一个列表： ['南京市', '长江大桥']\n",
      "jieba.lcut的返回结果重组为句子： 南京市 长江大桥\n",
      "jieba.lcut_for_search的返回结果重组为句子： 南京 京市 南京市 长江 大桥 长江大桥\n",
      "======词性标注======\n"
     ]
    }
   ],
   "source": [
    "import jieba\n",
    "\n",
    "def test_jieba_cut(sentence):\n",
    "    print(\"bef cut sentence is:  \", sentence, \"\\n======jieba.cut:======\")\n",
    "    \n",
    "    sen_accurate = jieba.cut(sentence, cut_all = False)\n",
    "    sen_all = jieba.cut(sentence, cut_all = True)          #精确模式会自动多出许多词语\n",
    "    sen_search = jieba.cut_for_search(sentence, HMM = True)\n",
    "    print(\"jieba.cut 的结果是一个可迭代的generator: \", sen_all, \" 需要迭代读出\\n\")\n",
    "    for line in sen_search:\n",
    "        print(line)\n",
    "    print(\"======jieba.lcut======\")\n",
    "    sen_lcut = jieba.lcut(sentence)\n",
    "    print(\"jieba.lcut的返回结果是一个列表：\", sen_lcut)\n",
    "    print(\"jieba.lcut的返回结果重组为句子：\", \" \".join(sen_lcut))\n",
    "    sen_lcut_search = jieba.lcut_for_search(sentence)\n",
    "    print(\"jieba.lcut_for_search的返回结果重组为句子：\", \" \".join(sen_lcut_search))\n",
    "    print(\"======词性标注======\")\n",
    "    #poss = jieba.posseg.lcut(sentence)\n",
    "\n",
    "test_sentence = \"南京市长江大桥\"\n",
    "test_jieba_cut(test_sentence)"
   ]
  },
  {
   "cell_type": "code",
   "execution_count": 9,
   "metadata": {},
   "outputs": [
    {
     "name": "stdout",
     "output_type": "stream",
     "text": [
      "分割前后样本的类型没有变化: bef is  <class 'list'> |||| aft is  <class 'list'>\n",
      "分割前后样本的数目没有变化: bef is  501 |||| aft is 501\n",
      "分割前后每一个样本的类型变了: bef is  <class 'str'> |||| aft is  <class 'list'>\n",
      "分割前后每一个样本的特征值变了: bef is  44 |||| aft is 40\n",
      "分割前后每一个样本的内容变了：\n",
      "bef is\n",
      " 呼叫热线　４００８－１００－３００　服务邮箱　ｋｆ＠ｐｅｏｐｌｅｄａｉｌｙ．ｃｏｍ．ｃｎ \n",
      "aft is\n",
      " ['呼叫', '热线', '\\u3000', '４', '０', '０', '８', '－', '１', '０', '０', '－', '３', '０', '０', '\\u3000', '服务', '邮箱', '\\u3000', 'ｋ', 'ｆ', '＠', 'ｐ', 'ｅ', 'ｏ', 'ｐ', 'ｌ', 'ｅ', 'ｄ', 'ａ', 'ｉ', 'ｌ', 'ｙ', '．', 'ｃ', 'ｏ', 'ｍ', '．', 'ｃ', 'ｎ']\n",
      "分割前后样本的类型没有变化: bef is  <class 'list'> |||| aft is  <class 'list'>\n",
      "分割前后样本的数目没有变化: bef is  501 |||| aft is 501\n",
      "分割前后每一个样本的类型变了: bef is  <class 'list'> |||| aft is  <class 'str'>\n",
      "分割前后每一个样本的特征值变了: bef is  40 |||| aft is 83\n",
      "分割前后每一个样本的内容变了：\n",
      "bef is\n",
      " ['呼叫', '热线', '\\u3000', '４', '０', '０', '８', '－', '１', '０', '０', '－', '３', '０', '０', '\\u3000', '服务', '邮箱', '\\u3000', 'ｋ', 'ｆ', '＠', 'ｐ', 'ｅ', 'ｏ', 'ｐ', 'ｌ', 'ｅ', 'ｄ', 'ａ', 'ｉ', 'ｌ', 'ｙ', '．', 'ｃ', 'ｏ', 'ｍ', '．', 'ｃ', 'ｎ'] \n",
      "aft is\n",
      " 呼叫 热线 　 ４ ０ ０ ８ － １ ０ ０ － ３ ０ ０ 　 服务 邮箱 　 ｋ ｆ ＠ ｐ ｅ ｏ ｐ ｌ ｅ ｄ ａ ｉ ｌ ｙ ． ｃ ｏ ｍ ． ｃ ｎ\n"
     ]
    }
   ],
   "source": [
    "import jieba\n",
    "\n",
    "def jieba_cut(contents_list):\n",
    "    cut_list = []\n",
    "    for line in contents_list:\n",
    "        one_list = jieba.lcut(line)\n",
    "        cut_list.append(one_list)\n",
    "\n",
    "    print(\"分割前后样本的类型没有变化: bef is \", type(contents_list), \"|||| aft is \", type(cut_list))\n",
    "    print(\"分割前后样本的数目没有变化: bef is \", len(contents_list), \"|||| aft is\", len(cut_list))\n",
    "    print(\"分割前后每一个样本的类型变了: bef is \", type(contents_list[1]), \"|||| aft is \", type(cut_list[1]))\n",
    "    print(\"分割前后每一个样本的特征值变了: bef is \", len(contents_list[1]), \"|||| aft is\", len(cut_list[1]))\n",
    "    print(\"分割前后每一个样本的内容变了：\\nbef is\\n\", contents_list[1], \"\\naft is\\n\", cut_list[1])\n",
    "    \n",
    "    return cut_list\n",
    "\n",
    "def split_sents_space(list_list):\n",
    "    '''\n",
    "    type(list_list) == type(list_list[0]) == list\n",
    "    type(sents_cut_space) == list\n",
    "    type(sents_cut_space[0]) == string\n",
    "    '''\n",
    "    sents_cut_space = []\n",
    "    for line in list_list:\n",
    "        line_tmp = ' '.join(line)\n",
    "        sents_cut_space.append(line_tmp)\n",
    "\n",
    "    print(\"合并前后样本的类型没有变化: bef is \", type(list_list), \"|||| aft is \", type(sents_cut_space))\n",
    "    print(\"合并前后样本的数目没有变化: bef is \", len(list_list), \"|||| aft is\", len(sents_cut_space))\n",
    "    print(\"合并前后每一个样本的类型变了: bef is \", type(list_list[1]), \"|||| aft is \", type(sents_cut_space[1]))\n",
    "    print(\"合并前后每一个样本的特征值变了: bef is \", len(list_list[1]), \"|||| aft is\", len(sents_cut_space[1]))\n",
    "    print(\"合并前后每一个样本的内容变了：\\nbef is\\n\", list_list[1], \"\\naft is\\n\", sents_cut_space[1])\n",
    "    return sents_cut_space\n",
    "\n",
    "conts_cut_to_list_list = jieba_cut(contents_list)\n",
    "conts_split_with_space = split_sents_space(conts_cut_to_list_list)"
   ]
  },
  {
   "cell_type": "markdown",
   "metadata": {},
   "source": [
    "#### 中文其他分词工具"
   ]
  },
  {
   "cell_type": "raw",
   "metadata": {},
   "source": [
    "Yaha \n",
    "分词在分词算法过程中去掉了很消耗内存的 Trie 树结构以及被项目研究者认为表现较差的HMM 模型，利用“最大熵”算法实现大段文字的新词发现能力，同时使用者可以对分词的各个阶段进行定义。\n",
    "cuttor=yaha.Cuttor() # 实例化 Cuttor 类\n",
    "cuttor.cut(\"我爱文本数据分析\") # 调用 cut 进行分词\n",
    "print(\"/\".join(cuttor.cut_all(\"我爱文本数据分析\"))        #全模式分词函数\n",
    "for i in cuttor.tokenize(u\"我爱文本数据分析\"):           #tokenize 方法在分词的同时返回词汇起始位置\n",
    "print \"word:\"+i[0]+\" \"+\"srart:\"+str(i[1])+\" \"+\"end:\"+str(i[2])\n",
    "\n",
    " Genius\n",
    "是一个开源的 Python 中文分词组件，基于 wapiti 采用 CRF(Conditional Random Field) 条件随机场算法实现分词功能，其支持用户自定义合并词典，采用 trie 树进行合并词典查找，并且支持词性标注功能。\n",
    "seg_list = genius.seg_text(u\"我爱文本数据分析\",use_tagging=True)  #use_tagging是否进行标注\n",
    "for i in seg_list:\n",
    "    print i.text, i.tagging\n",
    "\n",
    "seg_list = genius.seg_keywords(u\"我爱文本数据分析\")        #适用于搜索引擎的分词函数\n",
    "print('/'.join([word.text for word in seg_list]))\n",
    "我/爱/文/文本/本/数据/分析\n",
    "\n",
    "pynlpir \n",
    "中文分词是利用 NLPIR 进行中文分词的 Python 包，支持新词发现与自适应分词功能，从较长的文本内容中，基于信息交叉熵自动发现新特征语言，并自适应测试语料的语言概率分布模型，实现自适应分词。\n",
    "\n",
    "SnowNLP 是基于 Python 的中文文本处理库，自带已经训练好的字典，支持中文分词、词性标注、情感分析等文本数据分析功能。"
   ]
  },
  {
   "cell_type": "markdown",
   "metadata": {},
   "source": [
    "### 英文分词"
   ]
  },
  {
   "cell_type": "raw",
   "metadata": {},
   "source": [
    "按照标点进行分词"
   ]
  },
  {
   "cell_type": "code",
   "execution_count": 27,
   "metadata": {},
   "outputs": [
    {
     "data": {
      "text/plain": [
       "['text minming with python',\n",
       " 'TEXT MINING WITH PYTHON',\n",
       " 'Text Mining',\n",
       " 'With Python',\n",
       " '']"
      ]
     },
     "execution_count": 27,
     "metadata": {},
     "output_type": "execute_result"
    }
   ],
   "source": [
    "def sentence_split(sentence): # 编写分句函数\n",
    "    test_sen = []\n",
    "    for s in sentence.split('.'):\n",
    "        if '?' in s:\n",
    "            test_sen.extend(s.split('?'))\n",
    "        elif ',' in s:\n",
    "            test_sen.extend(s.split(','))\n",
    "        else:\n",
    "            test_sen.append(s)\n",
    "    return test_sen\n",
    "\n",
    "text=\"text minming with python,TEXT MINING WITH PYTHON.Text Mining?With Python.\"\n",
    "sentence_split(text)"
   ]
  },
  {
   "cell_type": "markdown",
   "metadata": {},
   "source": [
    "### NLTK 文本特征化中的应用"
   ]
  },
  {
   "cell_type": "raw",
   "metadata": {},
   "source": [
    "查看出现次数较多的形容词和名词\n",
    "\n",
    "nltk.download() 可下载 NLTK 提供的语料库\n",
    "text1.collocations(num=10, window_size=2)  #以两个单词为一组在语料库中的text1中寻找10个固定词组\n",
    "text1.concordance(\"very\",lines=5)       #从text1中寻找含有very的5处\n",
    "text1.count(\"very\")\n",
    "text1.similar(\"very\")"
   ]
  },
  {
   "cell_type": "code",
   "execution_count": 55,
   "metadata": {},
   "outputs": [
    {
     "name": "stdout",
     "output_type": "stream",
     "text": [
      "======pard 1 sentence cut======\n",
      "sent_tokenize cut sentence:  ['Good muffins cost $3.88\\nin New York.', 'Please buy me two of them.', 'Thanks']\n",
      "======pard 2 word cut======\n",
      "word_tokenize:  ['Good', 'muffins', 'cost', '$', '3.88', 'in', 'New', 'York', '.', 'Please', 'buy', 'me', 'two', 'of', 'them', '.', 'Thanks']\n",
      "WhitespaceTokenizer 自带正则表达式分词： ['Good', 'muffins', 'cost', '$3.88', 'in', 'New', 'York.', 'Please', 'buy', 'me', 'two', 'of', 'them.', 'Thanks']\n",
      "RegexpTokenize 自定义的正则表达式分词结果:  ['Good', 'muffins', 'cost', '$3.88', 'in', 'New', 'York', '.', 'Please', 'buy', 'me', 'two', 'of', 'them', '.', 'Thanks']\n",
      "======part 3 drop stop words======\n",
      "len of stop words is  179 part of stop words is  [\"you've\", \"you'll\", \"you'd\", 'your', 'yours']\n",
      "drop stop wrods: ['Good', 'muffins', 'cost', '$3.88', 'New', 'York.', 'Please', 'buy', 'two', 'them.', 'Thanks']\n",
      "======part 4 词干化======\n",
      "bef is:  worked aft is:  work\n",
      "bef is:  done aft is:  don\n",
      "bef is:  does aft is:  doe\n",
      "======part 5 词性标注======\n",
      "pos_tag res is\n",
      " [('Good', 'JJ'), ('muffins', 'NNS'), ('cost', 'VBP'), ('$3.88', 'NNS'), ('in', 'IN'), ('New', 'NNP'), ('York', 'NNP'), ('.', '.'), ('Please', 'NNP'), ('buy', 'VB'), ('me', 'PRP'), ('two', 'CD'), ('of', 'IN'), ('them', 'PRP'), ('.', '.'), ('Thanks', 'NNS')]\n",
      "======part 6 fixed collocation======\n",
      "\n",
      "3个固定搭配： None\n",
      "======part 7 counter======\n",
      "3 most common words is [('Good', 1), ('muffins', 1), ('cost', 1)]\n"
     ]
    }
   ],
   "source": [
    "from nltk.tokenize import sent_tokenize, word_tokenize, RegexpTokenizer, WhitespaceTokenizer\n",
    "from nltk.corpus import stopwords\n",
    "from nltk.stem.lancaster import LancasterStemmer\n",
    "from nltk.tag import pos_tag\n",
    "from nltk.text import Text\n",
    "from collections import Counter\n",
    "\n",
    "def cut_sent_drop_word(sentence):\n",
    "    print(\"======pard 1 sentence cut======\")\n",
    "    sent_cut = sent_tokenize(sentence)\n",
    "    print(\"sent_tokenize cut sentence: \", sent_cut)\n",
    "\n",
    "    print(\"======pard 2 word cut======\")\n",
    "    word_cut = word_tokenize(sentence)\n",
    "    print(\"word_tokenize: \", word_cut)\n",
    "    space_cut = WhitespaceTokenizer()\n",
    "    # WordPunctTokenizer将字母汉语非字母分开；BlanklineTokenizer空行为分隔符；StanfordTokenizer用PTBTokenizer分词工具进行分词；\n",
    "    print(\"WhitespaceTokenizer 自带正则表达式分词：\", space_cut.tokenize(sentence))\n",
    "    pattern = r\"\"\"(?x) # 设置以编写较长的正则条件\n",
    "                  (?:[A-Z]\\.)+ # 缩略词\n",
    "                  |\\$?\\d+(?:\\.\\d+)?%? # 货币、百分数\n",
    "                  |\\w+(?:[-']\\w+)* # 用连字符链接的词汇\n",
    "                  |\\.\\.\\. # 省略符号\n",
    "                  |(?:[.,;\"'?():-_`]) # 特殊含义字符\n",
    "                  \"\"\"\n",
    "    reg_cut = RegexpTokenizer(pattern)\n",
    "    print(\"RegexpTokenize 自定义的正则表达式分词结果: \", reg_cut.tokenize(sentence))\n",
    "\n",
    "    print(\"======part 3 drop stop words======\")\n",
    "    en_stop_words = stopwords.words(\"english\")\n",
    "    print(\"len of stop words is \", len(en_stop_words), \"part of stop words is \", en_stop_words[10:15])\n",
    "    word_clearn = []\n",
    "    for word in space_cut.tokenize(sentence):\n",
    "        if not word in en_stop_words:\n",
    "            word_clearn.append(word)\n",
    "    print(\"drop stop wrods:\", word_clearn)\n",
    "    print(\"======part 4 词干化======\")\n",
    "    lc = LancasterStemmer()           # PorterStemmer同理\n",
    "    words = [\"worked\", \"done\", \"does\"]\n",
    "    for word in words:\n",
    "        print(\"bef is: \", word, \"aft is: \", lc.stem(word))\n",
    "    print(\"======part 5 词性标注======\")\n",
    "    print(\"pos_tag res is\\n\", pos_tag(reg_cut.tokenize(sentence)))\n",
    "    print(\"======part 6 fixed collocation======\")\n",
    "    collocation = Text(space_cut.tokenize(sentence))\n",
    "    print(\"3个固定搭配：\", collocation.collocations(num = 3, window_size = 2))\n",
    "    print(\"======part 7 counter======\")\n",
    "    words_counter = Counter(space_cut.tokenize(sentence))\n",
    "    print(\"3 most common words is\", words_counter.most_common(3))\n",
    "    \n",
    "test = \"Good muffins cost $3.88\\nin New York. Please buy me two of them.\\nThanks\"\n",
    "cut_sent_drop_word(test)"
   ]
  },
  {
   "cell_type": "markdown",
   "metadata": {},
   "source": [
    "### drop stop word"
   ]
  },
  {
   "cell_type": "raw",
   "metadata": {},
   "source": [
    "input 可以是以下几种:\n",
    "type1 = [w1w2w3w4, w5w6w7,...] ==> list + string 类型==》以单个汉字为基准进行匹配，删除的效果不好，返回值一个个汉字组成的列表，不好继续分析\n",
    "type3 = [w1 w2 w3 w4, w5 w6 w7,......] ==> list + string 类型  ==》同上，而且之前用于分割的空格还保存，结果最不好\n",
    "type2 = [[w1,w2,w3,w4], [w5,w6,w7],......] ==> list +list 类型 ==》以list中的空格为分割，返回也是list+list类型，需要组成句子的话可以用.join（）合并在一起。\n",
    "\n",
    "output 均是 list + list 形式"
   ]
  },
  {
   "cell_type": "code",
   "execution_count": 11,
   "metadata": {},
   "outputs": [
    {
     "name": "stdout",
     "output_type": "stream",
     "text": [
      "['\"', '#', '!', '$', '%', '&', \"'\", '(', ')', '*'] \n",
      " ['\"', '#', '!', '$', '%', '&', \"'\", '(', ')', '*']\n"
     ]
    }
   ],
   "source": [
    "stop_words=pd.read_csv(\"stopwords.txt\",sep=\"\\t\",quoting=3,names=['stopword'], encoding='utf-8')\n",
    "# M Ｍ 由于字体不一样，同样去不掉。\n",
    "stop_wordslist1 = stop_words.stopword.values.tolist()#上下两种写法都是可以的。\n",
    "stop_wordslist2 = stop_words.stopword.tolist()\n",
    "print(stop_wordslist1[:10], '\\n', stop_wordslist1[:10])"
   ]
  },
  {
   "cell_type": "code",
   "execution_count": 24,
   "metadata": {},
   "outputs": [
    {
     "name": "stdout",
     "output_type": "stream",
     "text": [
      "删除停用词前后样本的类型没有变化: bef is  <class 'list'> |||| aft is  <class 'list'>\n",
      "删除停用词前后样本的数目没有变化: bef is  501 |||| aft is 501\n",
      "删除停用词前后每一个样本的类型没有变: bef is  <class 'list'> |||| aft is  <class 'list'>\n",
      "删除停用词前后每一个样本的特征值变了: bef is  40 |||| aft is 22\n",
      "删除停用词前后每一个样本的内容变了：\n",
      "bef is\n",
      " ['呼叫', '热线', '\\u3000', '４', '０', '０', '８', '－', '１', '０', '０', '－', '３', '０', '０', '\\u3000', '服务', '邮箱', '\\u3000', 'ｋ', 'ｆ', '＠', 'ｐ', 'ｅ', 'ｏ', 'ｐ', 'ｌ', 'ｅ', 'ｄ', 'ａ', 'ｉ', 'ｌ', 'ｙ', '．', 'ｃ', 'ｏ', 'ｍ', '．', 'ｃ', 'ｎ'] \n",
      "aft is\n",
      " ['呼叫', '热线', '服务', '邮箱', 'ｋ', 'ｆ', 'ｐ', 'ｅ', 'ｏ', 'ｐ', 'ｌ', 'ｅ', 'ｄ', 'ａ', 'ｉ', 'ｌ', 'ｙ', 'ｃ', 'ｏ', 'ｍ', 'ｃ', 'ｎ']\n",
      "501\n"
     ]
    }
   ],
   "source": [
    "def drop_stopwords(contents,stopwords):\n",
    "    contents_clearn = []\n",
    "    all_words = []\n",
    "    for line in contents:\n",
    "        tmp_line = []\n",
    "        for word in line:\n",
    "            if not word in stopwords:\n",
    "                tmp_line.append(word)\n",
    "                all_words.append(word)\n",
    "                #print(\"save: \", word)\n",
    "        contents_clearn.append(tmp_line)\n",
    "        \n",
    "    print(\"删除停用词前后样本的类型没有变化: bef is \", type(contents), \"|||| aft is \", type(contents_clearn))\n",
    "    print(\"删除停用词前后样本的数目没有变化: bef is \", len(contents), \"|||| aft is\", len(contents_clearn))\n",
    "    print(\"删除停用词前后每一个样本的类型没有变: bef is \", type(contents[1]), \"|||| aft is \", type(contents_clearn[1]))\n",
    "    print(\"删除停用词前后每一个样本的特征值变了: bef is \", len(contents[1]), \"|||| aft is\", len(contents_clearn[1]))\n",
    "    print(\"删除停用词前后每一个样本的内容变了：\\nbef is\\n\", contents[1], \"\\naft is\\n\", contents_clearn[1])\n",
    "    \n",
    "    return contents_clearn, all_words\n",
    "\n",
    "list_c = ['#', '的', '2', '3', 'jieba']\n",
    "list_d = [\"#\", \"的\", \"2\", \"3\", \"jieba\"]  \n",
    "#cut_list 是一个2维数组，只能通过两套循环进行去重，一维数组则单重循环即可。\n",
    "# from nltk.corpus import stopwords\n",
    "# filtered_words = [word for word in word_list if word not in stopwords.words('english')]\n",
    "# 如果不用考虑词频，则可以使用下面的方法：\n",
    "# list(set(cut_list) - set(stop_wordslist2))\n",
    "\n",
    "#contents_clearn, all_words = drop_stopwords(contents_list, stop_wordslist2)           type1\n",
    "#contents_clearn, all_words = drop_stopwords(conts_split_with_space, stop_wordslist2)  type3\n",
    "contents_clearn, all_words = drop_stopwords(conts_cut_to_list_list, stop_wordslist2)   #type2\n",
    "print(len(contents_clearn))"
   ]
  },
  {
   "cell_type": "code",
   "execution_count": 412,
   "metadata": {},
   "outputs": [
    {
     "name": "stdout",
     "output_type": "stream",
     "text": [
      "bef join\n",
      " ['花冠', '丰田', '汽车', '旗下', '产品', '国产', '花冠', '第九代', '产品', '值得', '称道', 'ｉ', '发动机', '这是', '丰田', '国产', '车型', '中', '首款', '采用', '发动机', '车型', '花冠', '不可不', '谓', '经典', '车型', '改常新', '经久不衰', '无论是', '外形', '操纵', '舒适性', '花冠', '不偏不倚', '花冠', '身为', '家庭', '用车', '保养', '价格', '我来', '介绍', 'Ｎ', '颐且', '砸', '涣', '舅郊页', '嫡常', '行驶', '一年', '平均', '行驶', '里程', '万公里', '计算', '时间', '行驶', '万公里', '短时间', '车辆', '质量', '店', '检测', '日常', '保养', '进', '店', '保养', '公里', '保养', '崽', '锘', 'ü', '诒', 'Ｑ', '费用', '崽', '锘', 'ü', '诠', 'な', '狈', '延谬', '捎', '诒', 'Ｑ', '工时费', '每家', '经销商', '情况', '而定', '每家', '工时费', '工时费', '北京', '北苑', '丰田', '汽车', '销售', '服务', '有限公司', '提供', 'Ｃ', '扛', '簦', '担埃埃', '肮里', '保养', '项目', '崽', '锘', 'ü', '诿', '扛', '簦', '担埃埃', '肮里', '更换', '项目', '机油', '机油', '滤清器', '机油', '店', '推荐', 'Ｍ', 'Ｗ', '级', '原装机', '油', '级别', '润滑油', '刻以', '日常', '从图', '中', '得知', '花冠', '更换', '机油', '滤清器', '中国', '生产', '价格', '原厂', '价', '便宜', '┍', '痹', '贩', '崽', '锲车', '销售', '服务', '有限公司'] aft join\n",
      " 花冠丰田汽车旗下产品国产花冠第九代产品值得称道ｉ发动机这是丰田国产车型中首款采用发动机车型花冠不可不谓经典车型改常新经久不衰无论是外形操纵舒适性花冠不偏不倚花冠身为家庭用车保养价格我来介绍Ｎ颐且砸涣舅郊页嫡常行驶一年平均行驶里程万公里计算时间行驶万公里短时间车辆质量店检测日常保养进店保养公里保养崽锘ü诒Ｑ费用崽锘ü诠な狈延谬捎诒Ｑ工时费每家经销商情况而定每家工时费工时费北京北苑丰田汽车销售服务有限公司提供Ｃ扛簦担埃埃肮里保养项目崽锘ü诿扛簦担埃埃肮里更换项目机油机油滤清器机油店推荐ＭＷ级原装机油级别润滑油刻以日常从图中得知花冠更换机油滤清器中国生产价格原厂价便宜┍痹贩崽锲车销售服务有限公司\n"
     ]
    }
   ],
   "source": [
    "index = 400\n",
    "contents = \"\".join(contents_clearn[index])\n",
    "print(\"bef join\\n\", contents_clearn[index], \"aft join\\n\", contents)"
   ]
  },
  {
   "cell_type": "markdown",
   "metadata": {},
   "source": [
    "##  jieba analysis ##\n",
    "提取关键字，输入是一个文本，不是list。"
   ]
  },
  {
   "cell_type": "code",
   "execution_count": 413,
   "metadata": {},
   "outputs": [
    {
     "name": "stdout",
     "output_type": "stream",
     "text": [
      "花冠   保养   机油   工时费   丰田\n"
     ]
    }
   ],
   "source": [
    "import jieba.analyse\n",
    "\n",
    "print(\"   \".join(jieba.analyse.extract_tags(contents, topK = 5, withWeight = False))) #with 是小写"
   ]
  },
  {
   "cell_type": "markdown",
   "metadata": {},
   "source": [
    "## gensim  构建文档词频矩阵\n",
    "\n",
    "Dictionary 是 dictionary 模块下定义的类，可以实现词汇和词汇 id 之间的映射，即词典；输入是list,可以迭代的string\n",
    "\n",
    "dict.doc2bow() 可以将文本词汇集合转换为词袋模型表示形式，以列表形式返回，列表元素为 (词汇 id , 词频)的元组。\n",
    "\n",
    "可以将分词后的corpus输入，对于英文可以使用下面做简单分词：\n",
    "\n",
    "texts = [[word for word in document.lower().split()] for document in corpus]\n",
    "\n",
    "在 filter_extremes 方法中可以定义更加复杂的过滤方式，其调用方式为：\n",
    "\n",
    "====================================================================================================\n",
    "\n",
    "dict.filter_extremes(no_below=5, no_above=0.5, keep_n=100000)。\n",
    "\n",
    "no_below：若包含某词汇的文档少于 no_below 个，该词汇将被删除\n",
    "\n",
    "no_above：若包含某词汇的文档在所有文档中占比大于 no_above ，该词汇将被删除\n",
    "\n",
    "keep_n：经过参数 no_below 和 no_above 的过滤后，保留频率最高的前 keep_n 个词汇，取值为 None 时，表示保留全部词汇\n",
    "\n",
    "====================================================================================================\n",
    "\n",
    "dict.merge_with(new_dictionary) 方法用于字典合并\n",
    "\n",
    "dict.add_documents(documents, prune_at=2000000) 方法可以用新的文档内容更新现有的词典，同样，新的文档形式需为词汇列表\n",
    "\n",
    "============================================================================\n",
    "“词袋模型”一词源自“Bag of words”，简称 BOW，词袋模型对于词汇的独立性假设，简化了文本数据结构化处理过程中的计算，被广泛采用，但是另一方面，这种假设忽略了词汇之间的顺序和依赖关系，降低了模型对文本的代表性。\n"
   ]
  },
  {
   "cell_type": "code",
   "execution_count": 53,
   "metadata": {},
   "outputs": [
    {
     "name": "stdout",
     "output_type": "stream",
     "text": [
      "input shape:  501 , type:  <class 'list'>     out shape:  501 , type:  <class 'list'>\n",
      "_2D_array[1] is: \n",
      " ['呼叫', '热线', '服务', '邮箱', 'ｋ', 'ｆ', 'ｐ', 'ｅ', 'ｏ', 'ｐ', 'ｌ', 'ｅ', 'ｄ', 'ａ', 'ｉ', 'ｌ', 'ｙ', 'ｃ', 'ｏ', 'ｍ', 'ｃ', 'ｎ'] \n",
      "corpus_vec[1] is: \n",
      " [(196, 1), (197, 1), (198, 1), (199, 1), (200, 1), (201, 2), (202, 1), (203, 2), (204, 1), (205, 1), (206, 1), (207, 2), (208, 1), (209, 1), (210, 2), (211, 2), (212, 1)]\n",
      "key is: \n",
      " <bound method Dictionary.keys of <gensim.corpora.dictionary.Dictionary object at 0x000000000F7843C8>> \n",
      "values is: \n",
      " <bound method Mapping.values of <gensim.corpora.dictionary.Dictionary object at 0x000000000F7843C8>> key  and values is:  ItemsView(<gensim.corpora.dictionary.Dictionary object at 0x000000000F7843C8>)\n"
     ]
    }
   ],
   "source": [
    "from gensim import corpora, models, similarities\n",
    "\n",
    "def get_lda(_2D_array):\n",
    "    dict_all = corpora.Dictionary(_2D_array)\n",
    "    corpus_vec = [dict_all.doc2bow(sentence ) for sentence in _2D_array]# doc2bow 将每一句中的词用之前转换好的一个数字代替；\n",
    "    #print(dict_all.token2id)\n",
    "    print(\"input shape: \", len(_2D_array), \", type: \", type(_2D_array), \"    out shape: \", len(corpus_vec), \", type: \", type(corpus_vec))\n",
    "    print(\"_2D_array[1] is: \\n\", _2D_array[1], \"\\ncorpus_vec[1] is: \\n\", corpus_vec[1])  #输入的list已经做过分词处理，所以含有词语；\n",
    "    print(\"key is: \\n\", dict_all.keys, \"\\nvalues is: \\n\", dict_all.values, \"\\n key  and values is: \", dict_all.items())\n",
    "    \n",
    "    lda = models.ldamodel.LdaModel(corpus = corpus_vec, id2word = dict_all, num_topics = 5)\n",
    "    # corpus 将被训练的文档语料； num_topics：需要提取的潜在主题数；id2word：用于设置构建模型的词典\n",
    "    return lda\n",
    "\n",
    "lda = get_lda(contents_clearn)"
   ]
  },
  {
   "cell_type": "markdown",
   "metadata": {},
   "source": [
    "### gensim LDA分析\n",
    "\n",
    "### http://cloga.info/python/2014/01/27/corpora_vector_space\n",
    "### https://blog.csdn.net/sinat_26917383/article/details/79357700  lda的详细解释"
   ]
  },
  {
   "cell_type": "code",
   "execution_count": 641,
   "metadata": {},
   "outputs": [
    {
     "name": "stdout",
     "output_type": "stream",
     "text": [
      "本文分为如下几个主题：\n",
      " [[1.60408072e-05 5.71913042e-05 1.68139988e-03 ... 2.90346561e-05\n",
      "  3.22550768e-05 2.97608403e-05]\n",
      " [2.03254313e-05 6.60133228e-05 2.22597294e-03 ... 1.17311456e-05\n",
      "  1.17311420e-05 1.17318241e-05]\n",
      " [3.64733423e-05 6.52735034e-05 2.12635496e-03 ... 2.68772528e-05\n",
      "  2.40390018e-05 2.93421836e-05]\n",
      " [8.59716019e-05 5.50350378e-05 3.56524368e-03 ... 1.19580845e-05\n",
      "  1.19576925e-05 1.19603865e-05]\n",
      " [1.79417275e-05 4.29706743e-05 9.26067762e-04 ... 3.54519652e-05\n",
      "  3.38888894e-05 3.17025078e-05]]\n",
      "第0篇文章的前10个主题词的vec是：\n",
      " [(208, 0.014023398), (7, 0.012743309), (171, 0.010709676), (284, 0.008903683), (43, 0.0065951617), (203, 0.005623371), (210, 0.005255806), (105, 0.005173175), (1022, 0.00498112), (200, 0.004951728)]\n",
      "print_topic 第0篇文章的前10个主题词是：\n",
      " 0.014*\"ｍ\" + 0.013*\"万\" + 0.011*\"转\" + 0.009*\"车型\" + 0.007*\"号\" + 0.006*\"ｅ\" + 0.005*\"ｏ\" + 0.005*\"汽车\" + 0.005*\"万元\" + 0.005*\"ａ\"\n",
      "show_topic 第0篇文章的前10个主题词是：\n",
      " [('ｍ', 0.014023398), ('万', 0.012743309), ('转', 0.010709676), ('车型', 0.008903683), ('号', 0.0065951617), ('ｅ', 0.005623371), ('ｏ', 0.005255806), ('汽车', 0.005173175), ('万元', 0.00498112), ('ａ', 0.004951728)]\n",
      "print_topics 前5个主题的前5个关键词分别是：\n",
      " [(0, '0.014*\"ｍ\" + 0.013*\"万\" + 0.011*\"转\" + 0.009*\"车型\" + 0.007*\"号\"'), (1, '0.023*\"万\" + 0.013*\"转\" + 0.012*\"号\" + 0.011*\"矗埃埃福\" + 0.007*\"ｍ\"'), (2, '0.032*\"万\" + 0.014*\"号\" + 0.014*\"转\" + 0.007*\"车型\" + 0.007*\"矗埃埃福\"'), (3, '0.036*\"万\" + 0.024*\"号\" + 0.017*\"转\" + 0.009*\"矗埃埃福\" + 0.007*\"车型\"'), (4, '0.010*\"万\" + 0.009*\"车型\" + 0.007*\"Ｍ\" + 0.007*\"＂\" + 0.006*\"Ｂ\"')]\n",
      "show_topics 前5个主题的前5个关键词分别是：\n",
      " [(0, '0.014*\"ｍ\" + 0.013*\"万\" + 0.011*\"转\" + 0.009*\"车型\" + 0.007*\"号\"'), (1, '0.023*\"万\" + 0.013*\"转\" + 0.012*\"号\" + 0.011*\"矗埃埃福\" + 0.007*\"ｍ\"'), (2, '0.032*\"万\" + 0.014*\"号\" + 0.014*\"转\" + 0.007*\"车型\" + 0.007*\"矗埃埃福\"'), (3, '0.036*\"万\" + 0.024*\"号\" + 0.017*\"转\" + 0.009*\"矗埃埃福\" + 0.007*\"车型\"'), (4, '0.010*\"万\" + 0.009*\"车型\" + 0.007*\"Ｍ\" + 0.007*\"＂\" + 0.006*\"Ｂ\"')]\n",
      "第0篇文章的主题属于5个主题的可能性分别是： \n",
      " [(3, 0.9974439)]\n",
      "word id = 0 的单词最有大于50%的可能性对应与主题是：\n",
      " [(0, 3.9960682e-06), (1, 7.91873e-06), (2, 1.7659321e-06), (3, 8.399352e-06), (4, 1.8390268e-06)]\n"
     ]
    }
   ],
   "source": [
    "def show_topics(lda_get):\n",
    "    print(\"本文分为如下几个主题：\\n\", lda_get.get_topics())\n",
    "    print(\"第0篇文章的前10个主题词的vec是：\\n\",lda_get.get_topic_terms(0, topn = 10))\n",
    "    print(\"print_topic 第0篇文章的前10个主题词是：\\n\",lda_get.print_topic(0, topn = 10))\n",
    "    print(\"show_topic 第0篇文章的前10个主题词是：\\n\",lda_get.show_topic(0, topn = 10))\n",
    "    print(\"print_topics 前5个主题的前5个关键词分别是：\\n\",lda_get.print_topics(num_topics=5, num_words=5))\n",
    "    print(\"show_topics 前5个主题的前5个关键词分别是：\\n\",lda_get.show_topics(num_topics=5, num_words=5))\n",
    "    print(\"第0篇文章的主题属于5个主题的可能性分别是： \\n\", lda_get.get_document_topics(corpus_vec[0]))\n",
    "    print(\"word id = 0 的单词最有大于50%的可能性对应与主题是：\\n\", lda_get.get_term_topics(971, minimum_probability = 0))\n",
    "    #top_topics = lda_get.top_topics(contents_clearn)\n",
    "    #tc = sum([t[1] for t in top_topics])\n",
    "    #print(\"\\ntop_topics：%.4f.\\n\" % (tc))\n",
    "\n",
    "show_topics(lda)"
   ]
  },
  {
   "cell_type": "code",
   "execution_count": 599,
   "metadata": {},
   "outputs": [
    {
     "name": "stdout",
     "output_type": "stream",
     "text": [
      "0.018*\"报价\" + 0.011*\"网上\" + 0.011*\"ｍ\" + 0.010*\"车市\" + 0.010*\"Ｍ\"\n",
      "0.041*\"万\" + 0.022*\"Ｍ\" + 0.015*\"号\" + 0.014*\"模海\" + 0.014*\"Ｋ\"\n",
      "0.039*\"万\" + 0.027*\"转\" + 0.019*\"号\" + 0.014*\"矗埃埃福\" + 0.010*\"汽车\"\n",
      "0.047*\"万\" + 0.018*\"转\" + 0.016*\"号\" + 0.010*\"ｍ\" + 0.008*\"矗埃埃福\"\n",
      "0.023*\"万\" + 0.010*\"号\" + 0.010*\"Ｍ\" + 0.010*\"ｏ\" + 0.010*\"转\"\n",
      "0.045*\"万\" + 0.026*\"号\" + 0.013*\"转\" + 0.010*\"矗埃埃福\" + 0.006*\"＂\"\n",
      "0.036*\"万\" + 0.022*\"转\" + 0.015*\"号\" + 0.014*\"矗埃埃福\" + 0.010*\"矗\"\n",
      "0.031*\"万\" + 0.030*\"号\" + 0.029*\"转\" + 0.011*\"矗埃埃福\" + 0.006*\"路\"\n",
      "0.017*\"万\" + 0.015*\"号\" + 0.008*\"＂\" + 0.008*\"转\" + 0.006*\"车型\"\n",
      "0.016*\"万元\" + 0.014*\"万\" + 0.013*\"号\" + 0.013*\"转\" + 0.011*\"矗埃埃福\"\n",
      "0.013*\"车型\" + 0.012*\"ｍ\" + 0.011*\"ａ\" + 0.011*\"ｒ\" + 0.010*\"ｅ\"\n",
      "0.015*\"车型\" + 0.008*\"ｍ\" + 0.007*\"发动机\" + 0.006*\"Ｂ\" + 0.006*\"设计\"\n",
      "0.025*\"转\" + 0.015*\"万\" + 0.010*\"号\" + 0.009*\"万元\" + 0.007*\"矗埃埃福\"\n",
      "0.011*\"车型\" + 0.009*\"＂\" + 0.009*\"设计\" + 0.008*\"Ｕ\" + 0.006*\"汽车\"\n",
      "0.011*\"＂\" + 0.009*\"Ｃ\" + 0.007*\"车型\" + 0.007*\"Ｂ\" + 0.006*\"Ｎ\"\n",
      "0.012*\"ｍ\" + 0.008*\"车型\" + 0.008*\"ｅ\" + 0.007*\"Ｃ\" + 0.007*\"ｏ\"\n",
      "0.024*\"万\" + 0.016*\"号\" + 0.010*\"Ｋ\" + 0.008*\"转\" + 0.007*\"ｍ\"\n",
      "0.033*\"ｍ\" + 0.012*\"ｋ\" + 0.011*\"恚\" + 0.010*\"转\" + 0.008*\"Ｂ\"\n",
      "0.018*\"车型\" + 0.011*\"ｍ\" + 0.007*\"万\" + 0.007*\"Ｅ\" + 0.007*\"设计\"\n",
      "0.037*\"万\" + 0.022*\"号\" + 0.016*\"转\" + 0.011*\"矗埃埃福\" + 0.007*\"┦\"\n"
     ]
    }
   ],
   "source": [
    "for topic in lda.print_topics(num_topics=20, num_words=5):   #print_topics 复数形式。\n",
    "    print(topic[1])"
   ]
  },
  {
   "cell_type": "markdown",
   "metadata": {},
   "source": [
    "# 文本数据结构化处理 \n",
    "\n",
    "“文档-词项矩阵”一词源自“Document-Term Matrix”，简称 DTM，DTM 矩阵转置后即为 TDM。 矩阵的行代表文档，列代表词汇，矩阵元素即为某一文档中某一维度的词汇出现的次数。"
   ]
  },
  {
   "cell_type": "markdown",
   "metadata": {},
   "source": [
    "## 文本数据结构化处理一：文档--词项矩阵"
   ]
  },
  {
   "cell_type": "markdown",
   "metadata": {},
   "source": [
    "## CountVectorizer\n",
    "\n",
    "构建的是文档-词频矩阵\n",
    "\n",
    "https://scikit-learn.org/stable/modules/generated/sklearn.feature_extraction.text.CountVectorizer.html"
   ]
  },
  {
   "cell_type": "raw",
   "metadata": {},
   "source": [
    "CountVectorizer(input=’content’,   #filename：文本内容的文件名；file：有“read”方法的对象，如 file 对象；content：需要处理的文本，输入的内容可以是df也可以是list[string]类型，但不能是list[list]，也不能是一条(注意是一条)string语句。输出都是matrix\n",
    "encoding=’utf-8’, decode_error=’strict’,#strict：默认缺失值，出现异常报错；ignore：忽略异常情况；replace\n",
    "strip_accents=None, lowercase=True, #在分词前是否将所有字符都转换为小写形式\n",
    "preprocessor=None,            # 利用可调用函数改写预测处理函数，同时保留分词和 n-grams（将n个单词看成一个词语）的处理过程\n",
    "tokenizer=None,              #利用可调用函数改写分词步骤，同时保留预处理和 n-grams 的处理过程\n",
    "stop_words=None,             #字符串“english”：使用内建的英文停用词表；自定义停用词列表，只有当参数 analyzer == 'word'时才可以进行此项设置；None：不使用停用词，可以将参数 max_df 取值设置为 [0.7, 1.0) 基于内部语料库词频自动识别、过滤停用词\n",
    "token_pattern=’(?u)\\b\\w\\w+\\b’,   # 规定分词原理的正则表达式，仅在 analyzer == ‘word’ 时才可设置。默认的正则表达式是选择两个或者两个以上的字符（忽略标点符号，将其作为分词依据）\n",
    "ngram_range=(1, 1),       #设置 n-gram 字符中 “n\" 上下界的参数，取值类型为数组(min_n, max_n)，所有 min_n <= n <= max_n 的 n 值都会被使用\n",
    "analyzer=’word’,            # word：指定特征项为词；char：指定特征项为 n-grams 字符(按照 n 个字符对语句进行划分)；char_wb：仅从文本中词边界创建 n-gram 字符\n",
    "max_df=1.0,                 #阈值参数，构建字典时，忽略词频明显高于该阈值（语料库的停用词） 的词项。如果参数取值是浮点数，则代表了文档比例，如果是整数，则代表计数值。当字典非空时，这个参数会被忽略。\n",
    "min_df=1,                  #阈值参数，构建字典时，忽略词频明显低于该阈值的词项，也被成为截止值。如果参数取值是浮点数，则代表了文档比例，如果是整数，则代表计数值。当字典非空时，这个参数会被忽略。\n",
    "max_features=None,            #如果该参数取值非 None，构建词典的时候仅仅考虑语料库里词频最高的那些特征，\n",
    "vocabulary=None, binary=False, dtype=<class ‘numpy.int64’>)\n",
    "\n",
    "\n",
    "输出的结果以 \"（i,j） x \" 的形式存在，其中，i 表示第 i 条新闻，j 表示词汇id，x 表示词汇 j 在新闻 i 中出现的次数。"
   ]
  },
  {
   "cell_type": "code",
   "execution_count": 93,
   "metadata": {},
   "outputs": [
    {
     "name": "stdout",
     "output_type": "stream",
     "text": [
      "input type(corpus) is: <class 'list'> corpus.shape() is:  501 output is type is： <class 'scipy.sparse.csr.csr_matrix'> x.shape() is:  (501, 9886)\n",
      "可以用vocabulary_ 属性查看某个词汇对应的ID:  7315\n",
      "合并前后样本的类型变了: bef is  <class 'list'> |||| aft is  <class 'numpy.ndarray'>\n",
      "合并前后样本的数目没有变化: bef is  501 |||| aft is (501, 9886)\n",
      "合并前后每一个样本的类型变了: bef is  <class 'str'> |||| aft is  <class 'numpy.ndarray'>\n",
      "合并前后每一个样本的特征值变了: bef is  83 |||| aft is (9886,)\n",
      "合并前后每一个样本的内容变了：\n",
      "bef is\n",
      " 呼叫 热线 　 ４ ０ ０ ８ － １ ０ ０ － ３ ０ ０ 　 服务 邮箱 　 ｋ ｆ ＠ ｐ ｅ ｏ ｐ ｌ ｅ ｄ ａ ｉ ｌ ｙ ． ｃ ｏ ｍ ． ｃ ｎ \n",
      "aft is\n",
      " [0 0 0 ... 0 0 0]\n",
      "type(contents_list) <class 'list'> type(contents_list[1]) <class 'list'>\n"
     ]
    }
   ],
   "source": [
    "from sklearn.feature_extraction.text import CountVectorizer\n",
    "\n",
    "def count_vectorizer(corpus):\n",
    "    cv = CountVectorizer(stop_words = stop_wordslist1, lowercase=False)   #可以设置停用词\n",
    "    x = cv.fit_transform(corpus)\n",
    "    #print(\"input type(corpus) is:\", type(corpus), \"corpus.shape() is: \", corpus.shape, \"output is type is：\", type(x),\"x.shape() is: \", x.shape) #好像一部分词被省略了。\n",
    "    print(\"input type(corpus) is:\", type(corpus), \"corpus.shape() is: \", len(corpus), \"output is type is：\", type(x),\"x.shape() is: \", x.shape) \n",
    "    #print(\"input corpus[1] is: \\n\", corpus, \"\\noutput x[1] is: \\n\", x)\n",
    "    #print(\"被转换的字符是: \\n\", cv.get_feature_names(), \"对应关系是: \\n\", x.toarray())\n",
    "    print(\"可以用vocabulary_ 属性查看某个词汇对应的ID: \", cv.vocabulary_.get(\"经销商\"))\n",
    "    #print(\"每个文档中非零词向量的的词项: \", cv.inverse_transform(x))\n",
    "\n",
    "    x = x.toarray()\n",
    "    print(\"合并前后样本的类型变了: bef is \", type(corpus), \"|||| aft is \", type(x))\n",
    "    print(\"合并前后样本的数目没有变化: bef is \", len(corpus), \"|||| aft is\", x.shape)\n",
    "    print(\"合并前后每一个样本的类型变了: bef is \", type(corpus[1]), \"|||| aft is \", type(x[1]))\n",
    "    print(\"合并前后每一个样本的特征值变了: bef is \", len(corpus[1]), \"|||| aft is\", (x[1]).shape)\n",
    "    print(\"合并前后每一个样本的内容变了：\\nbef is\\n\", corpus[1], \"\\naft is\\n\", x[1])\n",
    "    \n",
    "    return x\n",
    "\n",
    "#count_vectorizer(df_droped.contents)  #将整个一条句子传入提取特征；x.shape() is:  (501, 13054),虽然该函数也可以分词，但是结果没有jieba好，所以用分词后的传入更好\n",
    "#count_vectorizer(contents_list)        #contents_list  = df_droped.contents.values.toarray(), list[string]类型，x.shape() is:  (501, 13054)\n",
    "#count_vectorizer(conts_cut_to_list_list) #list[list]这种输入是不对的\n",
    "\n",
    "#没有添加停用词表 stop_words = stop_wordslist1,  的时候特征值是不一样的，\n",
    "#添加的情况下两者是相同的 x.shape() is:  (501, 9886)。也就是说在这里过滤停用词和专门用一个恶函数去过滤效果一样。\n",
    "#x_space_cv = count_vectorizer(conts_split_with_space)#x.shape() is:  (501, 10449)\n",
    "#x_space_cv = count_vectorizer(split_sents_space(contents_clearn))   # x.shape() is:  (501, 9886)\n",
    "\n",
    "#最好的做法是用jieba进行分割，分割后不用过滤，直接拿到这里进行特征化\n",
    "x_space_cv = count_vectorizer(conts_split_with_space)\n",
    "'''\n",
    "#contents_clearn, all_words = drop_stopwords(contents_list, stop_wordslist2)           type1\n",
    "#contents_clearn, all_words = drop_stopwords(conts_split_with_space, stop_wordslist2)  type3\n",
    "contents_clearn, all_words = drop_stopwords(conts_cut_to_list_list, stop_wordslist2)   #type2\n",
    "'''\n",
    "print(\"type(contents_list)\", type(contents_list), \"type(contents_list[1])\", type(contents_list[0:2]))"
   ]
  },
  {
   "cell_type": "markdown",
   "metadata": {},
   "source": [
    "由于 contents_clearn 中每一行的字符是用逗号隔开的，而 CountVectorizer 要求输入的是 string 类型输入，所以要对 contents_clearn进行转换"
   ]
  },
  {
   "cell_type": "markdown",
   "metadata": {},
   "source": [
    "df 每一列的数据都是一维的，one-hot编码要转换成2维的：df.a.values.reshape(-1, 1)\n",
    "### y 输入只能是单个数值吗"
   ]
  },
  {
   "cell_type": "code",
   "execution_count": 502,
   "metadata": {},
   "outputs": [
    {
     "name": "stdout",
     "output_type": "stream",
     "text": [
      "(501,) <class 'pandas.core.series.Series'>\n",
      "[[1. 0.]\n",
      " [1. 0.]\n",
      " [1. 0.]\n",
      " ...\n",
      " [1. 0.]\n",
      " [1. 0.]\n",
      " [0. 1.]]\n"
     ]
    }
   ],
   "source": [
    "from sklearn.preprocessing import OneHotEncoder\n",
    "all_label = df_train_label.label.unique()\n",
    "encoder = OneHotEncoder()\n",
    "print(df_train_label.label.shape, type(df_train_label.label))\n",
    "y = encoder.fit_transform((df_train_label.label.values).reshape(-1, 1)).toarray()\n",
    "print(y)"
   ]
  },
  {
   "cell_type": "code",
   "execution_count": 595,
   "metadata": {},
   "outputs": [],
   "source": [
    "#print(df_train_label.label.values.reshape(-1, 1))\n",
    "labels = df_train_label.label.values.reshape(-1, 1)\n",
    "dict_all = corpora.Dictionary(labels)\n",
    "#print(dct.token2id)\n",
    "corpus_vec = [dict_all.doc2bow(sentence ) for sentence in labels]# doc2bow 将每一句中的词用之前转换好的一个数字代替；\n",
    "#print(corpus_vec)"
   ]
  },
  {
   "cell_type": "markdown",
   "metadata": {},
   "source": [
    "#### HashingVectorizer\n",
    "\n",
    "CountVectorizer 类构建文档词频矩阵时，需要调用两次文档集合，一次用于创建词典，一次用于创建每个文档对应的词频向量，两次调用会导致内存消耗较大。HashingVectorizer类通过哈希（hashing） 技巧，不创建字典，有效的缓解了这一问题\n",
    "\n",
    "### DictVectorizer\n",
    "\n",
    "例如文档“text mining text analysis”，可以存储为 {'text': 2, 'mining': 1, 'analysis': 1}\n",
    "\n",
    "DictVectorizer 类可以将字典形式的特征表示转换为 Numpy 数组形式，对于分类变量采用“one-hot coding”表示"
   ]
  },
  {
   "cell_type": "markdown",
   "metadata": {},
   "source": [
    "## 文档结构化处理方式二: 词袋特征提取\n",
    "\n",
    "有待完善"
   ]
  },
  {
   "cell_type": "code",
   "execution_count": 111,
   "metadata": {},
   "outputs": [
    {
     "name": "stdout",
     "output_type": "stream",
     "text": [
      "[{'bag': True, 'of': True, 'words': True}, {'bag': True, 'a': True, 'words': True}]\n"
     ]
    }
   ],
   "source": [
    "def bag_of_words(corpus, labels):\n",
    "    corpus_label = []\n",
    "    for line in corpus:\n",
    "        corpus_label.append(dict([(word, True) for word in line]))\n",
    "    \n",
    "    print(bag_list)\n",
    "\n",
    "list_ = [['bag', 'of', 'words'], ['bag', 'a', 'words']]\n",
    "dict_ = bag_of_words(list_)\n",
    "\n",
    "'''\n",
    "# 把训练集给做成标准形式\n",
    "training_data = [[preprocess(s1), 'pos'],\n",
    "[preprocess(s2), 'pos'],\n",
    "[preprocess(s3), 'neg'],\n",
    "[preprocess(s4), 'neg']]\n",
    "# 喂给model吃\n",
    "model = NaiveBayesClassifier.train(training_data)\n",
    "# 打出结果\n",
    "print(model.classify(preprocess('this is a good book')))\n",
    "\n",
    "当然啦, 我们以后可以升级这个⽅程, 让它带有更加⽜逼的fval, ⽐如 word2vec\n",
    "'''"
   ]
  },
  {
   "cell_type": "markdown",
   "metadata": {},
   "source": [
    "## 文档结构化处理方式二： TF-IDF 处理\n",
    "\n",
    "词频-逆向文档频率”一词源自“Term Frequency–Inverse Document Frequency”，简称 TF-IDF。 对某个文档最有代表性的词汇或者说对区别文档最有意义的词汇应该是那些在某个文档中出现频率高，而在整个文档集合的其他文档中出现频率少的词汇。常用的计算方式就是在文档词项矩阵（tf）的基础上进行权数（idf） 调整。 \n",
    "\n",
    "TF(t) = (t出现在⽂档中的次数) / (⽂档中的term总数).IDF(t) = log_e(⽂档总数 / 含有t的⽂档总数)\n",
    "\n",
    "假设现在有一个包含 1000 个文档的文档集合，其中包括文档：[经济，发展，新常态，研究，……]，该文档总词汇数是 100，“经济”这个词汇出现了 4次，则“经济”一词的词频（TF） 为 4/100 = 0.04，如果在 1000 个文档中有 100 个文档出现过“经济”一词，则逆向文档频率（IDF） 为 log(1000/100) = 1，那么在 TF-IDF 矩阵中，该文档中“经济”一词对应的权数应为 0.04 * 1 = 0.04\n",
    "\n",
    "CountVectorizer 类可以将文档集合转换为文档词频矩阵\n",
    "\n",
    "sklearn.feature_extraction.text.TfidfTransformer 类可以将词频矩阵转换为标准化的 TF 或 TF-IDF 矩阵\n",
    "\n",
    "而 TfidfVectorizer 类将这两个过程合并在一起，即可将原始文本数据直接转换为 TF-IDF 矩阵。\n",
    "\n",
    "get_feature_names 方法可以获得所有特征项，即文档-词频矩阵列对应的所有词汇\n",
    "\n",
    "==============================\n",
    "\n",
    "gensim 库 models 包中的 tfidfmodel 模块下定义了构建词频-逆向文档频率矩阵的类——TfidfModel\n",
    "\n",
    "创建词典\n",
    "dictionary = corpora.Dictionary(texts)\n",
    "创建文档词频向量\n",
    "corpus = [dictionary.doc2bow(text) for text in texts]\n",
    "计算 tf-idf 值\n",
    "tfidf_model = models.TfidfModel(corpus)\n",
    "corpus_tfidf = tfidf_model[corpus]\n",
    "for i in corpus_tfidf:\n",
    "    print i"
   ]
  },
  {
   "cell_type": "code",
   "execution_count": 89,
   "metadata": {
    "scrolled": true
   },
   "outputs": [
    {
     "name": "stdout",
     "output_type": "stream",
     "text": [
      "TfidfVectorizer(analyzer='word', binary=False, decode_error='strict',\n",
      "        dtype=<class 'numpy.float64'>, encoding='utf-8', input='content',\n",
      "        lowercase=False, max_df=1.0, max_features=4000, min_df=1,\n",
      "        ngram_range=(1, 1), norm='l2', preprocessor=None, smooth_idf=True,\n",
      "        stop_words=None, strip_accents=None, sublinear_tf=False,\n",
      "        token_pattern='(?u)\\\\b\\\\w\\\\w+\\\\b', tokenizer=None, use_idf=True,\n",
      "        vocabulary=None)\n",
      "合并前后样本的类型变了: bef is  <class 'list'> |||| aft is  <class 'scipy.sparse.csr.csr_matrix'>\n",
      "合并前后样本的数目没有变化: bef is  501 |||| aft is (501, 4000)\n",
      "合并前后每一个样本的类型变了: bef is  <class 'str'> |||| aft is  <class 'scipy.sparse.csr.csr_matrix'>\n",
      "合并前后每一个样本的特征值变了: bef is  83 |||| aft is (1, 4000)\n",
      "合并前后每一个样本的内容变了：\n",
      "bef is\n",
      " 呼叫 热线 　 ４ ０ ０ ８ － １ ０ ０ － ３ ０ ０ 　 服务 邮箱 　 ｋ ｆ ＠ ｐ ｅ ｏ ｐ ｌ ｅ ｄ ａ ｉ ｌ ｙ ． ｃ ｏ ｍ ． ｃ ｎ \n",
      "aft is\n",
      "   (0, 1086)\t0.5199578522870563\n",
      "  (0, 2607)\t0.5001209662147553\n",
      "  (0, 2168)\t0.4510446677578356\n",
      "  (0, 3696)\t0.5254346378805599\n"
     ]
    }
   ],
   "source": [
    "from sklearn.feature_extraction.text import TfidfVectorizer\n",
    "\n",
    "def tfidf_trans(sents):\n",
    "    tfidf = TfidfVectorizer(analyzer = 'word', max_features = 4000, lowercase = False)\n",
    "    print(tfidf)\n",
    "    sents_tfidf = tfidf.fit_transform(sents)\n",
    "    #sents_tfidf = sents_tfidf.toarray()\n",
    "    print(\"合并前后样本的类型变了: bef is \", type(sents), \"|||| aft is \", type(sents_tfidf))\n",
    "    print(\"合并前后样本的数目没有变化: bef is \", len(sents), \"|||| aft is\", sents_tfidf.shape)\n",
    "    print(\"合并前后每一个样本的类型变了: bef is \", type(sents[1]), \"|||| aft is \", type(sents_tfidf[1]))\n",
    "    print(\"合并前后每一个样本的特征值变了: bef is \", len(sents[1]), \"|||| aft is\", (sents_tfidf[1]).shape)\n",
    "    print(\"合并前后每一个样本的内容变了：\\nbef is\\n\", sents[1], \"\\naft is\\n\", sents_tfidf[1])\n",
    "    \n",
    "    return sents_tfidf\n",
    "\n",
    "sents_tfidf = tfidf_trans(conts_split_with_space)\n",
    "\n",
    "#bayes_clf(sents_tfidf, df_train_label['label'])"
   ]
  },
  {
   "cell_type": "markdown",
   "metadata": {},
   "source": [
    "## 文本结构化处理三：词向量"
   ]
  },
  {
   "cell_type": "raw",
   "metadata": {},
   "source": [
    "文本数据结构化处理的两种方式，一个是文档-词项矩阵，另一个是词项--逆文档频率矩阵，这两种方式的共同点在于：把文档看成词汇的集合，对于每个词汇赋予一个系数，可以是词汇出现的次数，也可以是每个词汇对应的 tf-idf 值，最终每一个文档都可以表示成由这些系数构成的数值向量。下面要介绍的词向量与以上两种方式有所不同，词向量认为一个单词的意义是有其周围的单词所决定的。\n",
    "\n",
    "Distributed Representation 方法。该方法通过训练（常用神经网络的方法） 将某种语言中的每一个词映射成一个固定长度的短向量（相对于one-hot representation的“长”而言，维度以50维和100维比较常见） ，将所有这些向量放在一起形成一个词向量空间，而每一向量则为该空间中的一个点，在这个空间上引入“距离”，可以用最传统的欧氏距离来衡量，也可以用 cos 夹角来衡量，"
   ]
  },
  {
   "cell_type": "markdown",
   "metadata": {},
   "source": [
    "### word2vec "
   ]
  },
  {
   "cell_type": "raw",
   "metadata": {},
   "source": [
    "word2vec 的实现模型有两种：连续词袋模型(Continuous Bag of Words，简称 CBOW)和 Skip-Gram 模型，每个模型的训练方法又分别有两种，hierarchical sofmax 与 negative sampling。算法上这两个模型是相似的，都利用人工神经网络作为它们的分类算法，最初每个单词都是一个随机 N 维向量，训练时，利用 CBOW 或者 Skip-Gram 获得每个单词的最优向量，差别在于，CBOW 是根据上下文来预测当前词语的概率, Skip-Gram 刚好相反，根据当前词语来预测上下文的概率。Skip-Gram 模型在处理大规模数据集时结果更为准确。"
   ]
  },
  {
   "cell_type": "markdown",
   "metadata": {},
   "source": [
    "### gensim.models.Word2Vec"
   ]
  },
  {
   "cell_type": "raw",
   "metadata": {},
   "source": [
    "实例=Word2Vec(sentences=None, #input 是 list of list 形式的，内含以字符串列表为元素的可迭代对象 \n",
    "size=100,   #定义词向量维度\n",
    "alpha=0.025,  #初始学习率，在训练过程中会随参数“min_alpha”线性递减\n",
    "window=5,    #用于设置一个文档中目标词汇和预测词汇之间的最大距离，前后多长的语境。\n",
    "min_count=5, #在训练过程中忽略所有出现频数小于该值的词汇，默认值为“5\n",
    "max_vocab_size=None, #利用该参数控制词汇数量，以便在训练过程中对内存进行控制，如果词汇数超出该值，则删除出现频数少的词汇，一般情况下，每 1000 万单词大概需要占用 1GB 内存，默认取值为“None”，即不限制词汇数上限\n",
    "sample=0.001, #控制高频词汇随机采样概率的阈值\n",
    "seed=1,     #随机数生成器，初始化词向量\n",
    "workers=3,   #控制训练的并行数，相当于使用多核机器加速训练过程\n",
    "min_alpha=0.0001, sg=0, #用于选择训练的模型，默认取值为“0”，即使用 CBOW 模型，取值为“1”时，使用 skipgram 模型\n",
    "\n",
    "hs=0, #取值为“1”时，在训练过程中采用 hierarchical softmax 训练模型；默认取值为“0”，即采用 negative sampling 训练模型\n",
    "negative=5, #用于 negative sampling 的负例数目，默认取值为“5“\n",
    "cbow_mean=1, #取值为“0”时，模型隐层为输入层的向量之和，取值为“1\"时，模型隐层为输入层向量的均值。只有在使用 CBOW 算法时才需要设置。\n",
    "hashfxn=, iter=5, #遍历语料的次数，默认取值为“5”\n",
    "null_word=0, trim_rule=None, #用于指定词汇修剪规则，即那些特定的词汇需要保留、删除或使用默认规则进行处理（删除出现频数小于 min_count 参数的词汇） ，取值为“None”时，表示使用默认规则（min_count）\n",
    "sorted_vocab=1, #默认取值为“1”，表示在给词汇分配索引之前将词汇按照词频降序排列\n",
    "batch_words=10000)"
   ]
  },
  {
   "cell_type": "code",
   "execution_count": 4,
   "metadata": {},
   "outputs": [
    {
     "name": "stdout",
     "output_type": "stream",
     "text": [
      "len(sents):  57340 type(sents):  <class 'list'> type(sents[0]) <class 'list'>\n"
     ]
    }
   ],
   "source": [
    "import nltk\n",
    "from nltk.corpus import brown\n",
    "\n",
    "def get_data():\n",
    "    sents = [[j.lower() for j in i] for i in brown.sents()]\n",
    "    print(\"len(sents): \", len(sents), \"type(sents): \", type(sents), \"type(sents[0])\", type(sents[0]))\n",
    "    return sents\n",
    "\n",
    "test_sents = get_data()\n",
    "# 由于 contents_list 是一个一维数组，Word2Vec不知怎样将其分开，所以不适合；\n",
    "# sents的构造过程以及type(sents[0])的类型显示其是一个二维数组；\n",
    "#print(\"len(contents_list): \", len(contents_list), \"type(contents_list): \", type(contents_list), \"type(contents_list[0])\", type(contents_list[0]))"
   ]
  },
  {
   "cell_type": "code",
   "execution_count": 7,
   "metadata": {},
   "outputs": [
    {
     "name": "stdout",
     "output_type": "stream",
     "text": [
      "从训练集中推算，['breakfast', 'cereal', 'dinner', 'lunch']这几个单词中与其他类型不一样的是:  cereal\n",
      "从训练集中推算，woman king 最接近，与 man 最远离的5个词是：\n",
      " [('princeton', 0.9540836811065674), ('roman', 0.9502651691436768), ('roots', 0.9492810964584351), ('1952', 0.9482792615890503), ('restored', 0.9477081298828125)]\n",
      "从训练集中推算，'old', 'lady'，'young', 'boy'的相似度是：\n",
      " 0.9422655547655826\n",
      "从训练集中推算, 与nice最相近的5个词语是:  [('beautiful', 0.9509816765785217), ('knack', 0.9303882718086243), ('fine', 0.9286350607872009), ('blind', 0.9273473024368286), ('surely', 0.921423077583313)]\n",
      "两个词的相似度是: 0.9008115260957745\n"
     ]
    },
    {
     "name": "stderr",
     "output_type": "stream",
     "text": [
      "D:\\Users\\w\\Anaconda3\\envs\\tf\\lib\\site-packages\\ipykernel_launcher.py:10: DeprecationWarning: Call to deprecated `doesnt_match` (Method will be removed in 4.0.0, use self.wv.doesnt_match() instead).\n",
      "  # Remove the CWD from sys.path while we load stuff.\n",
      "D:\\Users\\w\\Anaconda3\\envs\\tf\\lib\\site-packages\\ipykernel_launcher.py:12: DeprecationWarning: Call to deprecated `most_similar` (Method will be removed in 4.0.0, use self.wv.most_similar() instead).\n",
      "  if sys.path[0] == '':\n",
      "D:\\Users\\w\\Anaconda3\\envs\\tf\\lib\\site-packages\\ipykernel_launcher.py:14: DeprecationWarning: Call to deprecated `n_similarity` (Method will be removed in 4.0.0, use self.wv.n_similarity() instead).\n",
      "  \n",
      "D:\\Users\\w\\Anaconda3\\envs\\tf\\lib\\site-packages\\ipykernel_launcher.py:16: DeprecationWarning: Call to deprecated `similar_by_word` (Method will be removed in 4.0.0, use self.wv.similar_by_word() instead).\n",
      "  app.launch_new_instance()\n",
      "D:\\Users\\w\\Anaconda3\\envs\\tf\\lib\\site-packages\\ipykernel_launcher.py:17: DeprecationWarning: Call to deprecated `similarity` (Method will be removed in 4.0.0, use self.wv.similarity() instead).\n"
     ]
    }
   ],
   "source": [
    "import gensim\n",
    "\n",
    "def word_to_vect(sentence):\n",
    "    w2v_model = gensim.models.Word2Vec(sentence, size = 100, window = 5, min_count = 3)\n",
    "    #w2v_model.save(\"./data/model\")  没有保存成功\n",
    "    #w2v_model.load(\"./data/model\")\n",
    "    #model = Word2Vec.load_word2vec_format('google_news.txt', binary=False) # C text format\n",
    "    #model = Word2Vec.load_word2vec_format('google_news.bin', binary=True) # C binary format\n",
    "    #print(\"english 转换之后测词向量是: \\n\", w2v_model.wv[\"english\"])\n",
    "    dont_match = w2v_model.doesnt_match(['breakfast', 'cereal', 'dinner', 'lunch'])\n",
    "    print(\"从训练集中推算，['breakfast', 'cereal', 'dinner', 'lunch']这几个单词中与其他类型不一样的是: \", dont_match)\n",
    "    most_similar = w2v_model.most_similar(positive=[\"woman\",\"king\"],negative=[\"man\"],topn=5)\n",
    "    print(\"从训练集中推算，语义中包含woman、king但是不包含man 的5个词是：\\n\", most_similar)\n",
    "    similarity = w2v_model.n_similarity(['old', 'lady'], ['young', 'boy'])\n",
    "    print(\"从训练集中推算，'old', 'lady'，'young', 'boy'的相似度是：\\n\", similarity)\n",
    "    print(\"从训练集中推算, 与nice最相近的5个词语是: \", w2v_model.similar_by_word('nice',topn=5))\n",
    "    print(\"两个词的相似度是:\", w2v_model.similarity('pleasure', 'dog'))\n",
    "\n",
    "word_to_vect(test_sents)"
   ]
  },
  {
   "cell_type": "raw",
   "metadata": {},
   "source": [
    "# 聊天机器人可以使用w2v转换成向量后，进行意图推断，然后从特定意图所代表的集合中找到合适的回复。"
   ]
  },
  {
   "cell_type": "markdown",
   "metadata": {},
   "source": [
    "## mapping"
   ]
  },
  {
   "cell_type": "markdown",
   "metadata": {},
   "source": [
    "### 有没有更好的做映射的方法？ "
   ]
  },
  {
   "cell_type": "code",
   "execution_count": 86,
   "metadata": {
    "scrolled": true
   },
   "outputs": [
    {
     "name": "stdout",
     "output_type": "stream",
     "text": [
      "          0         1         2         3         4         5         6  \\\n",
      "0  0.663096  0.402282 -0.575929  0.028209 -0.840693  0.237689 -1.988995   \n",
      "1 -0.473551  1.181268  0.410701  0.597198  1.065039 -0.224096 -0.493422   \n",
      "2  2.108808 -0.536339 -0.554278  0.016049 -0.852961 -0.873650 -0.499563   \n",
      "3 -0.256091 -1.281063  0.912140  1.988719 -0.903191 -1.155541 -0.320411   \n",
      "4 -1.663813 -2.940368  0.648992 -2.809625  1.295922 -0.481740  1.032881   \n",
      "5 -0.947690  0.013068  0.450368  1.222904  0.774645  1.419684  1.212414   \n",
      "6  1.204485 -0.790305  1.054092 -2.176963 -0.627976 -1.095955  0.809892   \n",
      "7 -0.045348 -0.448982  1.172985  1.169629 -0.442228 -0.614139  0.613977   \n",
      "8 -0.470794 -0.584598  0.006238 -0.637428  0.079763 -0.605732 -0.041770   \n",
      "9 -0.294400  0.674912  0.912868  0.507703  0.691031  0.522481  0.048208   \n",
      "\n",
      "          7         8         9      ...          39991     39992     39993  \\\n",
      "0  2.309912 -0.255884  1.412057      ...      -1.385759  1.030886 -0.498365   \n",
      "1 -0.416535 -0.121149 -1.151298      ...      -0.247793 -0.720440 -2.354689   \n",
      "2 -0.264767  0.378293 -1.606715      ...      -1.116668  1.227210 -1.021211   \n",
      "3 -1.389665 -0.605824  1.384736      ...       0.357685 -0.022934  0.690884   \n",
      "4 -1.428812 -0.072628  0.310018      ...       0.608375  2.081412 -0.347133   \n",
      "5  0.332564  1.252366  0.935831      ...      -0.229106 -0.676575 -0.291634   \n",
      "6  0.015627  0.304639  0.184055      ...       0.366334 -0.785874 -1.246502   \n",
      "7 -0.130456 -0.243833  0.688225      ...       1.798404  2.432245 -0.808649   \n",
      "8 -0.395990  0.645222  0.639936      ...      -0.220475 -1.056354 -0.200564   \n",
      "9 -1.999676 -0.341816 -0.055706      ...      -1.057587 -0.993807  0.928945   \n",
      "\n",
      "      39994     39995     39996     39997     39998     39999  y_train_test  \n",
      "0  0.846461 -2.164859 -0.338887  0.087129  0.609661  0.186684             1  \n",
      "1 -1.075197  2.129864 -0.508520 -0.008336 -0.671455  0.472063             1  \n",
      "2 -0.583427 -0.439343  0.227301 -1.560199  1.766846 -1.019279             1  \n",
      "3  0.548723  0.442489 -0.336430 -0.069202 -0.458539 -0.445012             1  \n",
      "4  0.303246 -0.518172 -1.302396 -1.297760  0.660867  0.088632             1  \n",
      "5 -0.125011 -1.288416 -0.347421 -0.045094 -0.886551  0.143971             1  \n",
      "6  0.242224 -1.333179 -0.022132 -0.567209  0.219126  0.609823             1  \n",
      "7 -0.352723  1.454482  0.647988 -0.054706 -0.745547 -1.068221             1  \n",
      "8  0.002830 -0.572701 -0.208419 -1.036558 -1.255736 -0.787936             1  \n",
      "9  0.190765  2.707180  0.031736  0.979230 -0.821704  0.925428             1  \n",
      "\n",
      "[10 rows x 40001 columns] \n",
      "             0         1         2         3         4         5         6  \\\n",
      "491 -0.903966  1.334432 -1.054367  0.146464 -0.320222  1.481546  0.476492   \n",
      "492  0.321947 -1.009871 -1.455341  3.788532 -0.116231 -1.294955  1.574299   \n",
      "493 -0.100679 -0.271987  0.586023 -1.012305  0.437572 -0.831782 -0.692328   \n",
      "494 -0.189714 -0.381792  0.174057  0.165702 -0.768396 -0.386152 -0.098295   \n",
      "495 -1.808610  0.072365  0.752212  1.544454 -1.768474 -1.527857 -1.792304   \n",
      "496 -1.251608 -0.609847 -1.705857  1.362484 -0.096517 -0.243536  0.621117   \n",
      "497 -2.051329  0.299823 -0.563736 -0.726370  0.165982 -2.234782 -0.009607   \n",
      "498  0.352087  1.161155  0.185786 -0.123242  0.182649  1.334636  0.570269   \n",
      "499 -1.521320 -0.448039  1.968045 -0.685546 -0.643977  0.482551  0.005488   \n",
      "500 -0.203389 -2.315932 -2.722350  0.208687 -0.447242 -1.094000 -0.047608   \n",
      "\n",
      "            7         8         9      ...          39991     39992     39993  \\\n",
      "491  2.013898  0.051549 -0.790743      ...      -1.648899  0.838709 -1.501974   \n",
      "492  0.874108  0.119164  0.801774      ...       0.536044  0.504242 -0.893419   \n",
      "493 -1.114749  0.976868 -0.126515      ...      -0.343603  1.049463 -0.176960   \n",
      "494  0.047726 -0.058835  2.240129      ...      -0.044280  0.536450 -1.179740   \n",
      "495  3.023081 -0.879033  0.984332      ...       0.104889 -0.818651  1.494636   \n",
      "496  0.504159  0.246960 -0.562319      ...       0.543082  0.238116  1.203045   \n",
      "497 -0.467479  0.160952 -1.300592      ...       1.754732 -0.634747 -0.275943   \n",
      "498 -1.655248  2.296322 -1.133228      ...       1.147765 -0.866038  0.151522   \n",
      "499  0.515283 -0.472383  0.795183      ...      -1.075433  0.313332  1.296687   \n",
      "500 -1.114155  0.168186 -1.611469      ...      -1.788720  0.024350  0.152664   \n",
      "\n",
      "        39994     39995     39996     39997     39998     39999  y_train_test  \n",
      "491 -2.087406 -0.582893  0.908288 -0.031305  0.866587  0.756113             1  \n",
      "492 -0.594826  0.579427  0.395523  0.647514  0.119675  0.570271             1  \n",
      "493 -1.522378 -0.148487  0.321782  0.586755 -0.727526 -1.917512             1  \n",
      "494 -0.909330 -0.063952 -0.858097 -0.583401 -1.680230 -0.984622             1  \n",
      "495 -0.413955  1.079287 -1.349489  0.932008 -0.126197 -0.401787             1  \n",
      "496 -1.652731 -0.315928 -0.571123  0.496475 -0.600535  0.684922             1  \n",
      "497 -1.588947  1.222333  1.186805 -1.688783  1.455335  1.899557             1  \n",
      "498  0.522497 -0.707472  1.957245  0.139401  0.066683  0.049825             1  \n",
      "499 -0.324825 -0.266744 -0.576802 -1.203993  0.106420 -0.190703             1  \n",
      "500 -0.466247 -0.744821  0.137487  0.847633 -1.168091 -0.637129             2  \n",
      "\n",
      "[10 rows x 40001 columns]\n"
     ]
    },
    {
     "data": {
      "text/plain": [
       "'\\naaa = pd.DataFrame()\\n\\nlabel_mapping = {\"汽车\": 1, \"财经\": 2, \"科技\": 3, \"健康\": 4, \"体育\":5, \"教育\": 6,\"文化\": 7,\"军事\": 8,\"娱乐\": 9,\"时尚\": 0}\\naaa[\\'y_train_test\\'] = df_droped[\\'label\\'].map(label_mapping)\\n\\naaa[\\'x_train_test\\'] = conts_split_with_space\\n\\nprint(aaa.head(10), \"\\n\", aaa.tail(10))\\n'"
      ]
     },
     "execution_count": 86,
     "metadata": {},
     "output_type": "execute_result"
    }
   ],
   "source": [
    "\n",
    "feature_label = pd.DataFrame(np.random.randn(501, 40000))\n",
    "\n",
    "label_mapping = {\"汽车\": 1, \"财经\": 2, \"科技\": 3, \"健康\": 4, \"体育\":5, \"教育\": 6,\"文化\": 7,\"军事\": 8,\"娱乐\": 9,\"时尚\": 0}\n",
    "feature_label['y_train_test'] = df_droped['label'].map(label_mapping)\n",
    "\n",
    "#df_feature_label['x_train_test'] = x_space_cv\n",
    "#df_feature_label['x_train_test'] = sents_tfidf\n",
    "print(feature_label.head(10), \"\\n\", feature_label.tail(10))\n",
    "\n",
    "'''\n",
    "aaa = pd.DataFrame()\n",
    "\n",
    "label_mapping = {\"汽车\": 1, \"财经\": 2, \"科技\": 3, \"健康\": 4, \"体育\":5, \"教育\": 6,\"文化\": 7,\"军事\": 8,\"娱乐\": 9,\"时尚\": 0}\n",
    "aaa['y_train_test'] = df_droped['label'].map(label_mapping)\n",
    "\n",
    "aaa['x_train_test'] = conts_split_with_space\n",
    "\n",
    "print(aaa.head(10), \"\\n\", aaa.tail(10))\n",
    "'''"
   ]
  },
  {
   "cell_type": "markdown",
   "metadata": {},
   "source": [
    "## train test split function\n",
    "\n",
    "input 可以为 lists, numpy arrays, scipy-sparse matrices or pandas dataframes.\n",
    "\n",
    "\n",
    "判断类型\n",
    "\n",
    "https://stackoverflow.com/questions/1549801/what-are-the-differences-between-type-and-isinstance\n",
    "\n",
    "https://docs.quantifiedcode.com/python-anti-patterns/readability/do_not_compare_types_use_isinstance.html"
   ]
  },
  {
   "cell_type": "code",
   "execution_count": 59,
   "metadata": {},
   "outputs": [],
   "source": [
    "from sklearn.model_selection import train_test_split\n",
    "def train_test_split_func(x, y, testsize = 0.25):\n",
    "    x_train, x_test, y_train, y_test = train_test_split(x, y, test_size = testsize)\n",
    "    if(type(x) == 'scipy.sparse.csr.csr_matrix'):\n",
    "        print(type(x_test), x_train.get_shape(), type(y_test), len(y_test))\n",
    "    return x_train, x_test, y_train, y_test\n",
    "\n",
    "x_train, x_test, y_train, y_test = train_test_split_func(df_feature_label['x_train_test'], df_feature_label['y_train_test'])"
   ]
  },
  {
   "cell_type": "markdown",
   "metadata": {},
   "source": [
    "# 文本分类、聚类"
   ]
  },
  {
   "cell_type": "raw",
   "metadata": {},
   "source": [
    "分类和聚类最重要的区别在于训练样本是否有类别标注。文本分类可以预测文本的类别，用于垃圾邮件的过滤、网页分类、个性化新闻提供等；文本聚类对结构内容相近的文本进行归类，用于实现文档集合的自动整理、搜索信息定位、用户兴趣模式识别等。"
   ]
  },
  {
   "cell_type": "markdown",
   "metadata": {},
   "source": [
    "## 分类\n"
   ]
  },
  {
   "cell_type": "raw",
   "metadata": {},
   "source": [
    "决策树、神经网络、朴素贝叶斯（naïve bayes） 方法、支持向量机（SVM） \n",
    "\n",
    "朴素贝叶斯Naive Bayes分类中包含了一个最重要的假设，那就是假设样本的特征之间是相互独立的，这个假设是也是整个朴素贝叶斯分类的基础，在我们日常的生活中，文本中字词的前后关联是显而易见的，并非完全的相互独立，因此在进行朴素贝叶斯分类器的应用前，准备工作阶段的文本特征提取是尤为重要的，如果能够提取得文本中相互独立的特征项，那么朴素贝叶斯分类的效果将会有显著的提高。\n",
    "\n",
    "最邻近分类，或称 K 最邻近分类（K-Nearest Neighbor Classification）：通过观察你的邻居，来推断你所属的类别。计算了新样本点与所有原始样本点之间的相似度之后，我们要做的便是确定其中几个与新样本点最为相似的样本，作为“邻居”。由于样本的邻近点可能属于不同的类别，我们需要根据一定的规则来确定样本的类别，通常情况下，最邻近分类的分类判别基于加权或等权的投票。\n",
    "\n",
    "“无需训练”计算量大、内存开销大、效率较低的缺点，不适用于样本量规模过大的文本数据集。\n",
    "\n",
    "支持向量机（Support Vector Machines）：其解决分类问题的逻辑为构造一个用于分割样本类别的超平面。支持向量机有以下三大组成部分：\n",
    "\n",
    "1.线性分类器：解决最优化问题——以函数间隔大于1为条件，最大化样本点至分类平面的几何间隔\n",
    "2.核函数：低维空间向量集通常难于划分，解决的方法是将它们映射到高维空间。但这个办法带来的困难就是计算复杂度的增加，而核函数正好巧妙地解决了这个问题。也就是说，只要选用适当的核函数，就可以得到高维空间的分类函数。\n",
    "3.软间隔：允许一些点游离并在在模型中违背限制条件（函数间隔大于1） ，处理规则化与不可分情况\n",
    "\n",
    "决策树（Decision Tree）：决策树的构建主要基于逼近离散函数值的方法，常用的算法为 ID3 、 C4.5 与 CART 等。ID3 算法评价的是不同特征属性分裂的信息增益（Information Gain） ，而其后继算法 C4.5 则考虑使用增益率（gain ratio）\n",
    "\n",
    "决策树优点其分类精度较高，且能够生成易于理解的分类模式，对于噪声数据，决策树算法的稳健性较好，在文本分类中能够有效减少对训练集样本过拟合的可能性。\n",
    "\n",
    "神经网络（Neural Network）。一个神经元的功能可以理解为求得输入向量与权重向量的内积后，经一个非线性传递函数得到一个标量结果。\n",
    "1） 输入层（Input layer） ：文本数据分析中，这些特征可以等同于文本数据样本的特征项。 2） 隐层（Hidden layer） ：神经网络的隐层由相互连接的神经元构成，一个神经网络模型中可以拥有多个隐层，每个隐层中的神经元数目不定，但数目越多神经网络的非线性越显著，从而增加神经网络的稳定性。在习惯上，我们通常将单个隐层的神经元个数设置为输入层结点的1.2至1.5倍。 3） 输出层（Output layer）：即神经网络模型结果的输出层，输出的结果也被称为输出向量，向量的每一个维度对应具体数据的分类划分可能性。神经网络模型的训练过程也是对所有网络中每一层所有神经元权重及偏置的参数估计过程。\n",
    "\n",
    "============================================================\n",
    " K-means 聚类的目的便是要将数据集中的这 n 个样本划分到 k 个集合之中（k 小于等于 n） ，使得各个集合的组内平方和\n",
    "1） 文本数据集中随机选取K个文档，作为初始的质心；\n",
    "2） 对剩余的每个文档测量其到每个质心的距离，并把它归到最近的质心对应的簇；\n",
    "3） 通过求中心向量的方式重新计算已经得到的各个簇的质心；\n",
    "4） 迭代2～3步直至新的质心与原质心相等或小于指定阈值（或是迭代次数达到外生给定的最大次数） ，算法结束。\n",
    "\n",
    "===================================================================\n",
    "\n",
    "BIRCH 算法，全称为利用层次方法的平衡迭代规约和聚类（Balanced Iterative Reducing and Clustering Using Hierarchies）\n",
    "\n",
    "===============================================\n",
    "\n",
    "高斯混合模型（Gaussian mixture model，GMM） \n",
    "\n",
    "======================\n",
    "\n",
    "GAAC（凝聚层次聚类）"
   ]
  },
  {
   "cell_type": "markdown",
   "metadata": {},
   "source": [
    "### bayes\n",
    "\n",
    "input 可以是<class 'scipy.sparse.csr.csr_matrix'>类型的也可以是 <class 'numpy.ndarray'> 类型的；"
   ]
  },
  {
   "cell_type": "code",
   "execution_count": 95,
   "metadata": {},
   "outputs": [
    {
     "name": "stdout",
     "output_type": "stream",
     "text": [
      "平均准确率为： 1.0\n",
      "测试集样本属于各个类别的概率为：\n",
      " [[9.97333333e-01 2.66666667e-03]\n",
      " [9.99547635e-01 4.52364593e-04]\n",
      " [9.99983566e-01 1.64339344e-05]\n",
      " [9.99756025e-01 2.43975473e-04]\n",
      " [9.98809312e-01 1.19068751e-03]\n",
      " [9.99928687e-01 7.13127643e-05]\n",
      " [9.99694631e-01 3.05368581e-04]\n",
      " [9.99626159e-01 3.73841069e-04]\n",
      " [9.99942203e-01 5.77971467e-05]\n",
      " [9.99639170e-01 3.60830300e-04]\n",
      " [9.99956016e-01 4.39843354e-05]\n",
      " [9.99887820e-01 1.12179991e-04]\n",
      " [9.98634335e-01 1.36566530e-03]\n",
      " [9.98766488e-01 1.23351195e-03]\n",
      " [9.99983566e-01 1.64339344e-05]\n",
      " [9.99160573e-01 8.39426841e-04]\n",
      " [9.99870658e-01 1.29342126e-04]\n",
      " [9.99825469e-01 1.74531089e-04]\n",
      " [9.97333333e-01 2.66666667e-03]\n",
      " [9.98784207e-01 1.21579258e-03]\n",
      " [9.99877116e-01 1.22883543e-04]\n",
      " [9.97333333e-01 2.66666667e-03]\n",
      " [9.99623529e-01 3.76470845e-04]\n",
      " [9.99950560e-01 4.94398619e-05]\n",
      " [9.99983566e-01 1.64339344e-05]\n",
      " [9.99942203e-01 5.77971467e-05]\n",
      " [9.99045056e-01 9.54944467e-04]\n",
      " [9.99909945e-01 9.00545394e-05]\n",
      " [9.98870487e-01 1.12951264e-03]\n",
      " [9.99983566e-01 1.64339344e-05]\n",
      " [9.99843258e-01 1.56742056e-04]\n",
      " [9.99832170e-01 1.67830381e-04]\n",
      " [9.99631434e-01 3.68565550e-04]\n",
      " [9.98269035e-01 1.73096486e-03]\n",
      " [9.99842385e-01 1.57614955e-04]\n",
      " [9.99390881e-01 6.09118965e-04]\n",
      " [9.99350318e-01 6.49682111e-04]\n",
      " [9.98984076e-01 1.01592395e-03]\n",
      " [9.96163070e-01 3.83693002e-03]\n",
      " [9.99816801e-01 1.83199438e-04]\n",
      " [9.99983566e-01 1.64339344e-05]\n",
      " [9.99757894e-01 2.42106403e-04]\n",
      " [9.99341446e-01 6.58554424e-04]\n",
      " [9.99758768e-01 2.41232444e-04]\n",
      " [9.99942203e-01 5.77971467e-05]\n",
      " [9.99983566e-01 1.64339344e-05]\n",
      " [9.99562750e-01 4.37249782e-04]\n",
      " [9.97333333e-01 2.66666667e-03]\n",
      " [9.99651686e-01 3.48314399e-04]\n",
      " [9.99187497e-01 8.12502779e-04]\n",
      " [9.99675549e-01 3.24451163e-04]\n",
      " [9.99845086e-01 1.54914004e-04]\n",
      " [9.99928687e-01 7.13127643e-05]\n",
      " [9.99901453e-01 9.85474110e-05]\n",
      " [9.99326160e-01 6.73840475e-04]\n",
      " [9.99848008e-01 1.51991814e-04]\n",
      " [9.99742238e-01 2.57761618e-04]\n",
      " [9.99847995e-01 1.52004888e-04]\n",
      " [9.99644114e-01 3.55885778e-04]\n",
      " [9.99639566e-01 3.60434213e-04]\n",
      " [9.99426661e-01 5.73339137e-04]\n",
      " [9.99584856e-01 4.15143913e-04]\n",
      " [9.99111317e-01 8.88683122e-04]\n",
      " [9.99700442e-01 2.99557609e-04]\n",
      " [9.99941781e-01 5.82187287e-05]\n",
      " [9.99621729e-01 3.78270976e-04]\n",
      " [9.99942203e-01 5.77971467e-05]\n",
      " [9.99124240e-01 8.75760494e-04]\n",
      " [9.99658530e-01 3.41469591e-04]\n",
      " [9.99738449e-01 2.61550656e-04]\n",
      " [9.99928687e-01 7.13127643e-05]\n",
      " [9.99983566e-01 1.64339344e-05]\n",
      " [9.99453619e-01 5.46380589e-04]\n",
      " [9.99634627e-01 3.65372732e-04]\n",
      " [9.99781784e-01 2.18216327e-04]\n",
      " [9.99983566e-01 1.64339344e-05]\n",
      " [9.99761428e-01 2.38571884e-04]\n",
      " [9.99900795e-01 9.92051174e-05]\n",
      " [9.99583287e-01 4.16713228e-04]\n",
      " [9.99956774e-01 4.32260445e-05]\n",
      " [9.99851021e-01 1.48978670e-04]\n",
      " [9.99520786e-01 4.79213581e-04]\n",
      " [9.98576291e-01 1.42370910e-03]\n",
      " [9.99736275e-01 2.63725216e-04]\n",
      " [9.99834940e-01 1.65059782e-04]\n",
      " [9.99705764e-01 2.94236393e-04]\n",
      " [9.99540240e-01 4.59760127e-04]\n",
      " [9.99956165e-01 4.38348650e-05]\n",
      " [9.97333333e-01 2.66666667e-03]\n",
      " [9.99416539e-01 5.83461490e-04]\n",
      " [9.99983566e-01 1.64339344e-05]\n",
      " [9.99849088e-01 1.50912480e-04]\n",
      " [9.99480414e-01 5.19586214e-04]\n",
      " [9.99834421e-01 1.65579067e-04]\n",
      " [9.99387495e-01 6.12504898e-04]\n",
      " [9.99831085e-01 1.68914681e-04]\n",
      " [9.99971822e-01 2.81778392e-05]\n",
      " [9.99596124e-01 4.03875604e-04]\n",
      " [9.99972065e-01 2.79347373e-05]\n",
      " [9.99965392e-01 3.46084391e-05]\n",
      " [9.99710482e-01 2.89518476e-04]\n",
      " [9.99563898e-01 4.36102045e-04]\n",
      " [9.98980350e-01 1.01964992e-03]\n",
      " [9.98977675e-01 1.02232528e-03]\n",
      " [9.99783765e-01 2.16235056e-04]\n",
      " [9.96890927e-01 3.10907312e-03]\n",
      " [9.99661359e-01 3.38640638e-04]\n",
      " [9.99927188e-01 7.28118705e-05]\n",
      " [9.99064362e-01 9.35638439e-04]\n",
      " [9.99983566e-01 1.64339344e-05]\n",
      " [9.99983566e-01 1.64339344e-05]\n",
      " [9.99194129e-01 8.05870761e-04]\n",
      " [9.99765391e-01 2.34609145e-04]\n",
      " [9.99836120e-01 1.63880499e-04]\n",
      " [9.98889009e-01 1.11099110e-03]\n",
      " [9.99668199e-01 3.31801211e-04]\n",
      " [9.99725785e-01 2.74215336e-04]\n",
      " [9.99729446e-01 2.70553814e-04]\n",
      " [9.99590925e-01 4.09075211e-04]\n",
      " [9.99607354e-01 3.92646112e-04]\n",
      " [9.98825804e-01 1.17419555e-03]\n",
      " [9.99679352e-01 3.20648156e-04]\n",
      " [9.99794754e-01 2.05245551e-04]\n",
      " [9.99953318e-01 4.66821210e-05]\n",
      " [9.99819731e-01 1.80269154e-04]\n",
      " [9.99755036e-01 2.44964180e-04]]\n"
     ]
    }
   ],
   "source": [
    "from sklearn.naive_bayes import MultinomialNB\n",
    "\n",
    "def bayes_clf(x, y):\n",
    "    clf = MultinomialNB()\n",
    "    x_train, x_test, y_train, y_test = train_test_split_func(x, y)\n",
    "    #x_train.shape\n",
    "    clf.fit(x_train, y_train)\n",
    "    print(\"平均准确率为：\", clf.score(x_test, y_test))\n",
    "    print(\"测试集样本属于各个类别的概率为：\\n\", clf.predict_proba(x_test))\n",
    "\n",
    "x_train_test = x_space_cv   #counter vector 向量化得到的将结果\n",
    "x_train_test = sents_tfidf  #tfidf vector 得到的结果\n",
    "bayes_clf(x_train_test, df_feature_label['y_train_test'])"
   ]
  },
  {
   "cell_type": "markdown",
   "metadata": {},
   "source": [
    "### K-最邻近分类器（KNN）\n",
    "\n",
    "input 可以是<class 'scipy.sparse.csr.csr_matrix'>类型的也可以是 <class 'numpy.ndarray'> 类型的；"
   ]
  },
  {
   "cell_type": "raw",
   "metadata": {},
   "source": [
    "KNeighborsClassifier(n_neighbors=5, #设置临近点个数 K 取值的参数\n",
    "weights='uniform', #用于设置临近点的权重，（1） “uniform”：所有临近点都有相同的权重；（2） “distance”：有时需要给距离待分类点距离近的点较大的权重，即临近点的权重是与待分类点距离的倒数；（3） 自定义函数：\n",
    "algorithm='auto', #对于临近点的计算算法有以下四种取值：（1） “ball_tree”：使用 BallTree 算法；（2） “kd_tree”：使用 KDTree 算法；（3） “brute”：使用 brute-force 算法；（4） “auto”：将根据实际数据情况选择最优算法\n",
    "leaf_size=30,   #传给 BallTree 或 KDTree 算法的叶子节点个数，默认取值为 30\n",
    "p=2, #p = 1：使用曼哈顿距离（manhattan distance，l1）；（2） p = 2：使用欧式距离（euclidean distance，l2） ，默认取值为 2；（3） 其他任意 p 值：使用闵可夫斯基聚力（minkowski distance，l_p）\n",
    "metric='minkowski', #算法树的距离测度，默认取值为“minkowski”，即闵可夫斯基测度，当参数“p=2”时，即为欧式测度\n",
    "metric_params=None, n_jobs=1, **kwargs)"
   ]
  },
  {
   "cell_type": "code",
   "execution_count": 101,
   "metadata": {
    "scrolled": false
   },
   "outputs": [
    {
     "name": "stdout",
     "output_type": "stream",
     "text": [
      "平均准确率为： 1.0\n"
     ]
    }
   ],
   "source": [
    "from sklearn.neighbors import KNeighborsClassifier\n",
    "\n",
    "def knn_clf(x, y):\n",
    "    clf = KNeighborsClassifier(n_neighbors=2)\n",
    "    x_train, x_test, y_train, y_test = train_test_split_func(x, y)\n",
    "    #x_train.shape\n",
    "    clf.fit(x_train, y_train)\n",
    "    print(\"平均准确率为：\", clf.score(x_test, y_test))\n",
    "    #print(\"测试集样本属于各个类别的概率为：\\n\", clf.predict_proba(x_test))\n",
    "\n",
    "#x_train_test = x_space_cv   #counter vector 向量化得到的将结果\n",
    "x_train_test = sents_tfidf  #tfidf vector 得到的结果\n",
    "knn_clf(x_train_test, df_feature_label['y_train_test'])\n",
    "#clf_knn.predict\n",
    "#clf_knn.predict_proba"
   ]
  },
  {
   "cell_type": "markdown",
   "metadata": {},
   "source": [
    "### 支持向量机（SVM）"
   ]
  },
  {
   "cell_type": "raw",
   "metadata": {},
   "source": [
    " SVC、NuSVC 和 LinearSVC 都可以进行多类别分类，SVC 和 NuSVC 方法相似，但是在参数设置和计算原理上有所不同，而LinearSVC 是使用线性核函数的分类器，故在参数设置时不用考虑核函数的设置。\n",
    "SVC 基于 libsvm 算法库，数据拟合的时间复杂度大于样本数量的二次方，使得该方法很难扩展到包含 10000 个样本的数据集。\n",
    "\n",
    "实例=SVC(C=1.0, #误差项的惩罚系数，用以平衡分类间隔和误判样本，惩罚系数越大，被误判的样本点越少，但可能存在噪音样本过拟合的情况\n",
    "kernel='rbf', #用于设置核函数类型，必须在以下核函数中进行选择：‘linear’、‘poly’、‘rbf’、‘sigmoid’、‘precomputed’，默认取值为‘rbf’\n",
    "degree=3, #当核函数为多项式核函数‘poly’时，该参数用于设定多项式的最高次幂\n",
    "gamma='auto', #当核函数为poly, rbf, sigmoid时，该参数用于设定核函数系数，默认取值为“auto”，表示使用 1/n_features 作为系数\n",
    "coef0=0.0,   #当核函数为‘poly’和‘sigmoid’时，该参数用于设定核函数中的独立项\n",
    "shrinking=True, probability=False, #是否进行概率估计\n",
    "tol=0.001, #停止计算的最小差值\n",
    "cache_size=200, #设置训练过程所需的内存\n",
    "class_weight=None, #用于设置各个类的权重，各个类别的惩罚系数 C 随权重改变\n",
    "verbose=False, max_iter=-1, #用于设置最大迭代次数，默认取值为 -1，即无限制\n",
    "decision_function_shape=None, #解决多分类问题，需要组合多个二分类器来实现多类别分类器的\n",
    "构造，使用该参数选择组合方式，有以下三种取值：‘ovo’： “一对一”;‘ovr’ ：“一对多”;None：默认取值，为了后续兼容一般执行‘ovo’\n",
    "random_state=None#概率估计时数据重新排序依照的伪随机数的生成器种子\n",
    ")"
   ]
  },
  {
   "cell_type": "code",
   "execution_count": 106,
   "metadata": {},
   "outputs": [],
   "source": [
    "from sklearn.svm import SVC\n",
    "\n",
    "def svc_clf(x, y):\n",
    "    clf = SVC()\n",
    "    x_train, x_test, y_train, y_test = train_test_split_func(x, y)\n",
    "    clf.fit(x_train, y_train)\n",
    "    clf.predict(x_test)\n",
    "    \n",
    "#x_train_test = x_space_cv   #counter vector 向量化得到的将结果\n",
    "x_train_test = sents_tfidf  #tfidf vector 得到的结果\n",
    "#svc_clf(x_train_test, df_feature_label['y_train_test'])"
   ]
  },
  {
   "cell_type": "markdown",
   "metadata": {},
   "source": [
    "### 决策树（Decision tree）"
   ]
  },
  {
   "cell_type": "raw",
   "metadata": {},
   "source": [
    "：实例.DecisionTreeClassifier(\n",
    "criterion='gini',#设置节点特征信息量度量方法，“gini”表示基尼指数，“entropy”表示信息增益，默认取值为“gini”\n",
    "splitter='best', #设置节点特征选择规则，“best” 表示选择最优的特征，“random”表示随机的在部分特征中找局部最优的特征。\n",
    "max_depth=None,  #树的最大深度，默认取值为 \"None\" ，树将扩展到直至所有的叶节点为单一类别或者包含的样本数小于参数 “min_samples_split” 界定的样本数为止。\n",
    "min_samples_split=2, #样本数阈值，停止划分一个中间节点的最小样本数，有以下两种取值方式：（1） 整数：最小样本数为 min_samples_split（2） 浮点数：min_samples_split 为考量的样本数在全部样本数 n_samples 中的占比，故每个节点最小样本数为 (min_samples_split * n_samples)min_samples_leaf：确认一个叶子节点的最小样本数，若小于该值，则被剪枝，同样有整数和浮点数两种取值方式：（1） 整数：最小样本数为 min_samples_leaf（2） 浮点数：min_samples_leaf 为考量的样本数在全部样本数 n_samples 中的占比，故每个节点最小样本数为 (min_samples_leaf * n_samples)\n",
    "min_samples_leaf=1,\n",
    "min_weight_fraction_leaf=0.0, #确认一个叶子节点的所有样本权重之和的最小值，若小于该值，则被剪枝，默认取值为“0”，即不考虑权重问题\n",
    "\n",
    "max_features=None, #寻找节点特征时考量的特征个数：（1） 整数：在每一个节点都考量 max_features 个特征；（2） 浮点数：max_features 值为考量特征在全部特征数 n_features 中的占比，在每一个节点考量(max_features * n_features)个特征；（3） “auto”：max_features=sqrt(n_features)；（4） “sqrt”：max_features=sqrt(n_features)；（5） “log2”：max_features=log2(n_features)；（6） None ： max_features=n_features\n",
    "random_state=None,\n",
    "max_leaf_nodes=None, min_impurity_split=1e-07, class_weight=None, presort=False)"
   ]
  },
  {
   "cell_type": "markdown",
   "metadata": {},
   "source": [
    "### 神经网络（Neural network） "
   ]
  },
  {
   "cell_type": "raw",
   "metadata": {},
   "source": [
    "scikit-learn 库定义了 MLPClassifier 类利用 BP 算法训练多层神经网络，仅支持交叉熵\n",
    "（Cross-Entropy） 损失函数和分类概率估计，类实例化方式为：实例\n",
    "=MLPClassifier(hidden_layer_sizes=(100, ), activation='relu', solver='adam', alpha=0.0001,\n",
    "batch_size='auto', learning_rate='constant', learning_rate_init=0.001, power_t=0.5,\n",
    "max_iter=200, shuffle=True, random_state=None, tol=0.0001, verbose=False,\n",
    "warm_start=False, momentum=0.9, nesterovs_momentum=True, early_stopping=False,\n",
    "validation_fraction=0.1, beta_1=0.9, beta_2=0.999, epsilon=1e-08)\n",
    "参数说明：\n",
    "hidden_layer_sizes：设置各个隐层的单元数，取值类型为元组，元组长度为神经网络总层数\n",
    "减 2，元组中第 i 个元素就代表第 i 个隐层的单元数，默认取值为“(100,)”\n",
    "activation：设置隐层的激活函数 f(x)，提供了以下四种取值：\n",
    "（1） ‘identity’：无激活函数，只进行线性转换，即 f(x) = x\n",
    "（2） ‘logistic’：logistic sigmoid 函数，即f(x) = 1 / (1 + exp(-x))\n",
    "（3） ‘tanh’：双曲函数，即 f(x) = tanh(x)\n",
    "（4） ‘relu’：修正线性函数，即 f(x) = max(0, x)\n",
    "默认取值为 ‘relu’\n",
    "solver：设置寻找最优权重的算法，支持以下三种算法：\n",
    "（1） ‘lbfgs’：属于拟牛顿算法的一种最优化算法，对于较小数据集训练效果较好\n",
    "（2） ‘sgd’：随机梯度下降法\n",
    "（3） ‘adam’：Kingma 等人提出的基于梯度搜索的最优化算法，对于较大的数据集该算法不\n",
    "论是训练时间还是交叉验证结果都有较好的表现，\n",
    "默认取值为 ‘adam'\n",
    "alpha：设置正则化项的惩罚系数。默认取值为 0.0001\n",
    "learning_rate_init：初始学习率，默认取值为 0.001\n",
    "power_t：当参数 learning_rate 取值为 ‘invscaling’ 时，用于设置缩放指数\n",
    "tol：寻找最优权重过程中的最优化阈值，如果迭代过程中损失函数或者交叉验证得分变动未\n",
    "满足该参数，则对学习率进行调整\n",
    "learning_rate：设置学习率变化趋势，有以下三种取值：\n",
    "（1） ‘constant’：始终保持初始学习率 learning_rate_init\n",
    "（2） ‘invscaling’：随着迭代次数 t 的增加在初始学习率的基础上逐渐减小学习率，减小规则\n",
    "为 learning_rate_init / pow(t, power_t)，其中 power_t 参数需另外设置\n",
    "（3） ‘adaptive’：只要损失函数取值随着迭代次数的增加而减小就保持初始学习率不变，如果\n",
    "连续两个迭代的损失函数减小没有超过参数 tol ，或者交叉验证得分的增加没有超过参数 tol\n",
    "，学习率就缩小为原来的1/5\n",
    "默认取值为 ‘constant’\n",
    "max_iter：最大迭代次数，默认取值为 200\n",
    "warm_start：取值为“True”时，表示使用之前调用的参数进行初始化，否则覆盖掉之前的结果\n",
    "nesterovs_momentum：是否使用 Nesterov momentum 优化算法\n",
    "momentum：用于设置优化梯度下降算法的 momentum 值，取值范围在 0-1 之间，默认取值\n",
    "为 0.9\n",
    "early_stopping：当交叉验证得分没有提升时是否提前终止迭代，如果取值为“True”时，会自\n",
    "动预留 10% 的训练集作为验证样本，当连续两次迭代交叉验证得分增加不超过参数 tol 时，\n",
    "终止训练\n",
    "validation_fraction：在需要提前终止训练时，该参数用于设置用来验证的训练样本的比重"
   ]
  },
  {
   "cell_type": "markdown",
   "metadata": {},
   "source": [
    "### 使用 NLTK 进行文本分类"
   ]
  },
  {
   "cell_type": "raw",
   "metadata": {},
   "source": [
    "有 2 个文档，包含“x,y,z”三种字符串，分为“1,2”两类，以字符串为特征项，字符串出现次数为特征值得到的labeled feature sets为\n",
    "[({feature name:feature value},label)]，\n",
    "train = \n",
    "[(dict(x=5,y=8,z=1), '1'),\n",
    " (dict(x=3,y=5,z=0), '1'),]"
   ]
  },
  {
   "cell_type": "markdown",
   "metadata": {},
   "source": [
    "## 聚类"
   ]
  },
  {
   "cell_type": "raw",
   "metadata": {},
   "source": [
    "实例=KMeans(n_clusters=8,         #聚类数，也是需要初始化的类中心的个数，默认取值为 8\n",
    "\n",
    "init='k-means++', \n",
    "n_init=10,#使用不同的初始化类中心进行聚类的次数，最终输出结果为几次聚类中效果最好的，以组内距离衡量init：初始化方法，有以下几种取值方式：\n",
    "（1） ‘k-means++’：使用 k-means++ 算法选取初始聚类中心以加速收敛过程\n",
    "（2） ‘random’：随机选取样本点最为初始聚类中心\n",
    "（3） 由使用者自行制定初始聚类中心，形如 (n_clusters, n_features) 的对象\n",
    "默认取值为‘k-means++’\n",
    "\n",
    "max_iter=300, #一次聚类算法所执行的最大迭代次数，默认取值为 300\n",
    "tol=0.0001, #tol：当两次迭代的组内距离之差小于该值时，停止迭\n",
    "precompute_distances='auto', #是否进行距离的预先计算，有以下几种取值方式：\n",
    "（1） ‘auto’：若样本总数乘以聚类数 n_samples * n_clusters 大于 1200 万，就不进行预计算\n",
    "（2） True：进行预计算\n",
    "（3） False：不进行预计算\n",
    "默认取值为‘auto’\n",
    "\n",
    "verbose=0, random_state=None, # 随机初始化聚类中心的随机规则。取值为整数时，随机规则固定，默认使用numpy 随机数生成器\n",
    "copy_x=True, n_jobs=1, #设置并行计算的处理器个数。取值为“-1”时，使用所有的处理器；取值为“1”时，不进行并行计算；小于“-1”时，使用(n_cpus + 1 + n_jobs)个处理器进行计算\n",
    "\n",
    "algorithm='auto'#选择聚类算法，有以下几种取值方式：\n",
    "（1） “auto”：根据数据类型自动选择合适的算法，稀疏数据选择“full”算法，否则选择“elkan”算法\n",
    "（2） “full”：经典的 EM 算法\n",
    "（3） “elkan”：使用三角不等式进行 “elkan” 变换，该算法目前不支持稀疏数据\n",
    "默认取值为“auto”\n",
    ")"
   ]
  },
  {
   "cell_type": "code",
   "execution_count": 116,
   "metadata": {},
   "outputs": [],
   "source": [
    "from sklearn.cluster import KMeans\n",
    "\n",
    "def km_cluster(x):\n",
    "    km = KMeans(n_clusters=2)\n",
    "    km.fit(x)\n",
    "    km.fit_predict(x)\n",
    "    km.cluster_centers_\n",
    "    km.inertia_\n",
    "    \n",
    "#x_train_test = x_space_cv   #counter vector 向量化得到的将结果\n",
    "x_train_test = sents_tfidf  #tfidf vector 得到的结果\n",
    "km_cluster(x_train_test)"
   ]
  },
  {
   "cell_type": "code",
   "execution_count": 122,
   "metadata": {},
   "outputs": [
    {
     "ename": "TypeError",
     "evalue": "sparse matrix length is ambiguous; use getnnz() or shape[0]",
     "output_type": "error",
     "traceback": [
      "\u001b[1;31m---------------------------------------------------------------------------\u001b[0m",
      "\u001b[1;31mTypeError\u001b[0m                                 Traceback (most recent call last)",
      "\u001b[1;32m<ipython-input-122-17947b68e0b2>\u001b[0m in \u001b[0;36m<module>\u001b[1;34m\u001b[0m\n\u001b[0;32m      8\u001b[0m         \u001b[0mprint\u001b[0m\u001b[1;33m(\u001b[0m\u001b[0mi\u001b[0m\u001b[1;33m,\u001b[0m \u001b[0mkm\u001b[0m\u001b[1;33m.\u001b[0m\u001b[0mclassify\u001b[0m\u001b[1;33m(\u001b[0m\u001b[0mi\u001b[0m\u001b[1;33m)\u001b[0m\u001b[1;33m)\u001b[0m\u001b[1;33m\u001b[0m\u001b[1;33m\u001b[0m\u001b[0m\n\u001b[0;32m      9\u001b[0m \u001b[1;33m\u001b[0m\u001b[0m\n\u001b[1;32m---> 10\u001b[1;33m \u001b[0mnltk_km\u001b[0m\u001b[1;33m(\u001b[0m\u001b[0msents_tfidf\u001b[0m\u001b[1;33m)\u001b[0m\u001b[1;33m\u001b[0m\u001b[1;33m\u001b[0m\u001b[0m\n\u001b[0m",
      "\u001b[1;32m<ipython-input-122-17947b68e0b2>\u001b[0m in \u001b[0;36mnltk_km\u001b[1;34m(x)\u001b[0m\n\u001b[0;32m      4\u001b[0m \u001b[1;32mdef\u001b[0m \u001b[0mnltk_km\u001b[0m\u001b[1;33m(\u001b[0m\u001b[0mx\u001b[0m\u001b[1;33m)\u001b[0m\u001b[1;33m:\u001b[0m\u001b[1;33m\u001b[0m\u001b[1;33m\u001b[0m\u001b[0m\n\u001b[0;32m      5\u001b[0m     \u001b[0mkm\u001b[0m\u001b[1;33m=\u001b[0m\u001b[0mKMeansClusterer\u001b[0m\u001b[1;33m(\u001b[0m\u001b[0mnum_means\u001b[0m\u001b[1;33m=\u001b[0m\u001b[1;36m3\u001b[0m\u001b[1;33m,\u001b[0m\u001b[0mdistance\u001b[0m\u001b[1;33m=\u001b[0m\u001b[0mnltk\u001b[0m\u001b[1;33m.\u001b[0m\u001b[0mcluster\u001b[0m\u001b[1;33m.\u001b[0m\u001b[0mutil\u001b[0m\u001b[1;33m.\u001b[0m\u001b[0mcosine_distance\u001b[0m\u001b[1;33m)\u001b[0m\u001b[1;33m\u001b[0m\u001b[1;33m\u001b[0m\u001b[0m\n\u001b[1;32m----> 6\u001b[1;33m     \u001b[0mkm\u001b[0m\u001b[1;33m.\u001b[0m\u001b[0mcluster\u001b[0m\u001b[1;33m(\u001b[0m\u001b[0mx\u001b[0m\u001b[1;33m)\u001b[0m\u001b[1;33m\u001b[0m\u001b[1;33m\u001b[0m\u001b[0m\n\u001b[0m\u001b[0;32m      7\u001b[0m     \u001b[1;32mfor\u001b[0m \u001b[0mi\u001b[0m \u001b[1;32min\u001b[0m \u001b[0mx\u001b[0m\u001b[1;33m:\u001b[0m\u001b[1;33m\u001b[0m\u001b[1;33m\u001b[0m\u001b[0m\n\u001b[0;32m      8\u001b[0m         \u001b[0mprint\u001b[0m\u001b[1;33m(\u001b[0m\u001b[0mi\u001b[0m\u001b[1;33m,\u001b[0m \u001b[0mkm\u001b[0m\u001b[1;33m.\u001b[0m\u001b[0mclassify\u001b[0m\u001b[1;33m(\u001b[0m\u001b[0mi\u001b[0m\u001b[1;33m)\u001b[0m\u001b[1;33m)\u001b[0m\u001b[1;33m\u001b[0m\u001b[1;33m\u001b[0m\u001b[0m\n",
      "\u001b[1;32md:\\program files\\python37\\lib\\site-packages\\nltk\\cluster\\util.py\u001b[0m in \u001b[0;36mcluster\u001b[1;34m(self, vectors, assign_clusters, trace)\u001b[0m\n\u001b[0;32m     42\u001b[0m \u001b[1;33m\u001b[0m\u001b[0m\n\u001b[0;32m     43\u001b[0m     \u001b[1;32mdef\u001b[0m \u001b[0mcluster\u001b[0m\u001b[1;33m(\u001b[0m\u001b[0mself\u001b[0m\u001b[1;33m,\u001b[0m \u001b[0mvectors\u001b[0m\u001b[1;33m,\u001b[0m \u001b[0massign_clusters\u001b[0m\u001b[1;33m=\u001b[0m\u001b[1;32mFalse\u001b[0m\u001b[1;33m,\u001b[0m \u001b[0mtrace\u001b[0m\u001b[1;33m=\u001b[0m\u001b[1;32mFalse\u001b[0m\u001b[1;33m)\u001b[0m\u001b[1;33m:\u001b[0m\u001b[1;33m\u001b[0m\u001b[1;33m\u001b[0m\u001b[0m\n\u001b[1;32m---> 44\u001b[1;33m         \u001b[1;32massert\u001b[0m \u001b[0mlen\u001b[0m\u001b[1;33m(\u001b[0m\u001b[0mvectors\u001b[0m\u001b[1;33m)\u001b[0m \u001b[1;33m>\u001b[0m \u001b[1;36m0\u001b[0m\u001b[1;33m\u001b[0m\u001b[1;33m\u001b[0m\u001b[0m\n\u001b[0m\u001b[0;32m     45\u001b[0m \u001b[1;33m\u001b[0m\u001b[0m\n\u001b[0;32m     46\u001b[0m         \u001b[1;31m# normalise the vectors\u001b[0m\u001b[1;33m\u001b[0m\u001b[1;33m\u001b[0m\u001b[1;33m\u001b[0m\u001b[0m\n",
      "\u001b[1;32md:\\program files\\python37\\lib\\site-packages\\scipy\\sparse\\base.py\u001b[0m in \u001b[0;36m__len__\u001b[1;34m(self)\u001b[0m\n\u001b[0;32m    294\u001b[0m     \u001b[1;31m# non-zeros is more important.  For now, raise an exception!\u001b[0m\u001b[1;33m\u001b[0m\u001b[1;33m\u001b[0m\u001b[1;33m\u001b[0m\u001b[0m\n\u001b[0;32m    295\u001b[0m     \u001b[1;32mdef\u001b[0m \u001b[0m__len__\u001b[0m\u001b[1;33m(\u001b[0m\u001b[0mself\u001b[0m\u001b[1;33m)\u001b[0m\u001b[1;33m:\u001b[0m\u001b[1;33m\u001b[0m\u001b[1;33m\u001b[0m\u001b[0m\n\u001b[1;32m--> 296\u001b[1;33m         raise TypeError(\"sparse matrix length is ambiguous; use getnnz()\"\n\u001b[0m\u001b[0;32m    297\u001b[0m                         \" or shape[0]\")\n\u001b[0;32m    298\u001b[0m \u001b[1;33m\u001b[0m\u001b[0m\n",
      "\u001b[1;31mTypeError\u001b[0m: sparse matrix length is ambiguous; use getnnz() or shape[0]"
     ]
    }
   ],
   "source": [
    "import nltk\n",
    "from nltk.cluster import KMeansClusterer\n",
    "\n",
    "def nltk_km(x):\n",
    "    km=KMeansClusterer(num_means=3,distance=nltk.cluster.util.cosine_distance)\n",
    "    km.cluster(x)\n",
    "    for i in x:\n",
    "        print(i, km.classify(i))\n",
    "        \n",
    "nltk_km(sents_tfidf)"
   ]
  },
  {
   "cell_type": "markdown",
   "metadata": {},
   "source": [
    "## 评价标准"
   ]
  },
  {
   "cell_type": "raw",
   "metadata": {},
   "source": [
    "调整兰德指数（Adjusted Rand index）"
   ]
  },
  {
   "cell_type": "code",
   "execution_count": 124,
   "metadata": {},
   "outputs": [
    {
     "data": {
      "text/plain": [
       "0.5454545454545454"
      ]
     },
     "execution_count": 124,
     "metadata": {},
     "output_type": "execute_result"
    }
   ],
   "source": [
    "from sklearn import metrics\n",
    "\n",
    "labels_true = [0, 0, 1, 1, 1]\n",
    "labels_pred = [0, 0, 1, 1, 2]\n",
    "\n",
    "metrics.adjusted_rand_score(labels_true, labels_pred)"
   ]
  },
  {
   "cell_type": "raw",
   "metadata": {},
   "source": [
    "作为信息论里一种常用的信息度量，互信息也是对两组分类集合相似度的衡量\n",
    "I(X;Y)=H(X)-H(X|Y)=H(X,Y)-H(X|Y)-H(Y|X)"
   ]
  },
  {
   "cell_type": "code",
   "execution_count": 125,
   "metadata": {},
   "outputs": [
    {
     "name": "stderr",
     "output_type": "stream",
     "text": [
      "d:\\program files\\python37\\lib\\site-packages\\sklearn\\metrics\\cluster\\supervised.py:844: FutureWarning: The behavior of NMI will change in version 0.22. To match the behavior of 'v_measure_score', NMI will use average_method='arithmetic' by default.\n",
      "  FutureWarning)\n"
     ]
    },
    {
     "data": {
      "text/plain": [
       "0.7987327627644502"
      ]
     },
     "execution_count": 125,
     "metadata": {},
     "output_type": "execute_result"
    }
   ],
   "source": [
    "labels_true = [0, 0, 1, 1, 1]\n",
    "labels_pred = [0, 0, 1, 1, 2]\n",
    "metrics.normalized_mutual_info_score(labels_true, labels_pred)"
   ]
  },
  {
   "cell_type": "raw",
   "metadata": {},
   "source": [
    "同质性（Homogenelty） 用于衡量聚类结果中类内样本之间的平均相似度，相似度越高，代表该聚类结果中的簇越“纯”；而完备性（Completeness） 则用于反映属于相同类别的样本对象是否都被聚类入同一个簇"
   ]
  },
  {
   "cell_type": "code",
   "execution_count": 126,
   "metadata": {},
   "outputs": [
    {
     "data": {
      "text/plain": [
       "0.6379740263133313"
      ]
     },
     "execution_count": 126,
     "metadata": {},
     "output_type": "execute_result"
    }
   ],
   "source": [
    "labels_true = [0, 0, 1, 1, 1]\n",
    "labels_pred = [0, 0, 1, 1, 2]\n",
    "metrics.homogeneity_score(labels_true, labels_pred)\n",
    "metrics.completeness_score(labels_true, labels_pred)"
   ]
  },
  {
   "cell_type": "raw",
   "metadata": {},
   "source": [
    "在实际聚类过程中，聚类对象的真实类别往往是未知的，此时只能借助聚类模型本身得到聚类效果评价指标，轮廓系数（Silhouette Coefficient） 就是较为常用的一种。"
   ]
  },
  {
   "cell_type": "code",
   "execution_count": 127,
   "metadata": {},
   "outputs": [
    {
     "data": {
      "text/plain": [
       "0.818453750034078"
      ]
     },
     "execution_count": 127,
     "metadata": {},
     "output_type": "execute_result"
    }
   ],
   "source": [
    "X = np.array(([ 5, 3, 1, 0],\n",
    "[ 4, 3, 1, 1],\n",
    "[ -4, 3, 1, 0],\n",
    "[ -4, 3, 1, 2],\n",
    "[ -5, 3, 1, 2]))\n",
    "y = np.array((0,0,1,1,1))\n",
    "metrics.silhouette_score(X, y, metric='euclidean')"
   ]
  },
  {
   "cell_type": "markdown",
   "metadata": {},
   "source": [
    "# 文本可视化"
   ]
  },
  {
   "cell_type": "code",
   "execution_count": 410,
   "metadata": {
    "scrolled": false
   },
   "outputs": [
    {
     "name": "stderr",
     "output_type": "stream",
     "text": [
      "d:\\program files\\python37\\lib\\site-packages\\ipykernel_launcher.py:2: FutureWarning: using a dict on a Series for aggregation\n",
      "is deprecated and will be removed in a future version\n",
      "  \n"
     ]
    },
    {
     "data": {
      "text/html": [
       "<div>\n",
       "<style scoped>\n",
       "    .dataframe tbody tr th:only-of-type {\n",
       "        vertical-align: middle;\n",
       "    }\n",
       "\n",
       "    .dataframe tbody tr th {\n",
       "        vertical-align: top;\n",
       "    }\n",
       "\n",
       "    .dataframe thead th {\n",
       "        text-align: right;\n",
       "    }\n",
       "</style>\n",
       "<table border=\"1\" class=\"dataframe\">\n",
       "  <thead>\n",
       "    <tr style=\"text-align: right;\">\n",
       "      <th></th>\n",
       "      <th>all_words</th>\n",
       "      <th>count</th>\n",
       "    </tr>\n",
       "  </thead>\n",
       "  <tbody>\n",
       "    <tr>\n",
       "      <th>301</th>\n",
       "      <td>万</td>\n",
       "      <td>1940</td>\n",
       "    </tr>\n",
       "    <tr>\n",
       "      <th>2691</th>\n",
       "      <td>号</td>\n",
       "      <td>1026</td>\n",
       "    </tr>\n",
       "    <tr>\n",
       "      <th>10336</th>\n",
       "      <td>转</td>\n",
       "      <td>1023</td>\n",
       "    </tr>\n",
       "    <tr>\n",
       "      <th>11992</th>\n",
       "      <td>ｍ</td>\n",
       "      <td>690</td>\n",
       "    </tr>\n",
       "    <tr>\n",
       "      <th>10284</th>\n",
       "      <td>车型</td>\n",
       "      <td>679</td>\n",
       "    </tr>\n",
       "    <tr>\n",
       "      <th>8048</th>\n",
       "      <td>矗埃埃福</td>\n",
       "      <td>558</td>\n",
       "    </tr>\n",
       "    <tr>\n",
       "      <th>6729</th>\n",
       "      <td>汽车</td>\n",
       "      <td>440</td>\n",
       "    </tr>\n",
       "    <tr>\n",
       "      <th>11957</th>\n",
       "      <td>＂</td>\n",
       "      <td>435</td>\n",
       "    </tr>\n",
       "    <tr>\n",
       "      <th>11968</th>\n",
       "      <td>Ｍ</td>\n",
       "      <td>401</td>\n",
       "    </tr>\n",
       "    <tr>\n",
       "      <th>11959</th>\n",
       "      <td>Ｃ</td>\n",
       "      <td>385</td>\n",
       "    </tr>\n",
       "  </tbody>\n",
       "</table>\n",
       "</div>"
      ],
      "text/plain": [
       "      all_words  count\n",
       "301           万   1940\n",
       "2691          号   1026\n",
       "10336         转   1023\n",
       "11992         ｍ    690\n",
       "10284        车型    679\n",
       "8048       矗埃埃福    558\n",
       "6729         汽车    440\n",
       "11957         ＂    435\n",
       "11968         Ｍ    401\n",
       "11959         Ｃ    385"
      ]
     },
     "execution_count": 410,
     "metadata": {},
     "output_type": "execute_result"
    }
   ],
   "source": [
    "df_allwords = pd.DataFrame({\"all_words\": all_words})\n",
    "words_count = df_allwords.groupby(by = \"all_words\")[\"all_words\"].agg({\"count\":np.size})      #为啥要用[\"all_words\"]\n",
    "words_count = words_count.reset_index().sort_values(by =[\"count\"], ascending=False)\n",
    "words_count.head(10)"
   ]
  },
  {
   "cell_type": "code",
   "execution_count": 411,
   "metadata": {},
   "outputs": [
    {
     "data": {
      "text/plain": [
       "<matplotlib.image.AxesImage at 0x43072940>"
      ]
     },
     "execution_count": 411,
     "metadata": {},
     "output_type": "execute_result"
    },
    {
     "data": {
      "image/png": "[encoded data removed]",
      "text/plain": [
       "<Figure size 720x360 with 1 Axes>"
      ]
     },
     "metadata": {
      "needs_background": "light"
     },
     "output_type": "display_data"
    }
   ],
   "source": [
    "from wordcloud import WordCloud\n",
    "import matplotlib.pyplot as plt\n",
    "%matplotlib inline\n",
    "import matplotlib\n",
    "matplotlib.rcParams['figure.figsize'] = (10.0, 5.0)\n",
    "\n",
    "wordcloud=WordCloud(font_path=\"./data/simhei.ttf\",background_color=\"white\",max_font_size=80)\n",
    "word_frequence = {x[0]:x[1] for x in words_count.head(100).values}\n",
    "wordcloud=wordcloud.fit_words(word_frequence)\n",
    "plt.imshow(wordcloud)"
   ]
  }
 ],
 "metadata": {
  "kernelspec": {
   "display_name": "Python 3",
   "language": "python",
   "name": "python3"
  },
  "language_info": {
   "codemirror_mode": {
    "name": "ipython",
    "version": 3
   },
   "file_extension": ".py",
   "mimetype": "text/x-python",
   "name": "python",
   "nbconvert_exporter": "python",
   "pygments_lexer": "ipython3",
   "version": "3.6.8"
  }
 },
 "nbformat": 4,
 "nbformat_minor": 2
}
